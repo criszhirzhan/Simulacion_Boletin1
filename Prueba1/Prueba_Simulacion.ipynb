{
  "nbformat": 4,
  "nbformat_minor": 0,
  "metadata": {
    "colab": {
      "name": "Prueba_Simulacion.ipynb",
      "provenance": [],
      "toc_visible": true
    },
    "kernelspec": {
      "name": "python3",
      "display_name": "Python 3"
    },
    "language_info": {
      "name": "python"
    },
    "widgets": {
      "application/vnd.jupyter.widget-state+json": {
        "8ecdf38f56014e82bdba96b2a6d582c9": {
          "model_module": "@jupyter-widgets/controls",
          "model_name": "VBoxModel",
          "model_module_version": "1.5.0",
          "state": {
            "_view_name": "VBoxView",
            "_dom_classes": [],
            "_model_name": "VBoxModel",
            "_view_module": "@jupyter-widgets/controls",
            "_model_module_version": "1.5.0",
            "_view_count": null,
            "_view_module_version": "1.5.0",
            "box_style": "",
            "layout": "IPY_MODEL_b7ddf9ccbc0b40b3aa5fe1855b0b49b7",
            "_model_module": "@jupyter-widgets/controls",
            "children": [
              "IPY_MODEL_48c1684fd20e47ef8b22cbb7a56b0532",
              "IPY_MODEL_6a93b9ca3de04c9f83706fc1dfe9af80",
              "IPY_MODEL_a1f0bf48fd0f4ddea5983935c8726076"
            ]
          }
        },
        "b7ddf9ccbc0b40b3aa5fe1855b0b49b7": {
          "model_module": "@jupyter-widgets/base",
          "model_name": "LayoutModel",
          "model_module_version": "1.2.0",
          "state": {
            "_view_name": "LayoutView",
            "grid_template_rows": null,
            "right": null,
            "justify_content": null,
            "_view_module": "@jupyter-widgets/base",
            "overflow": null,
            "_model_module_version": "1.2.0",
            "_view_count": null,
            "flex_flow": null,
            "width": null,
            "min_width": null,
            "border": null,
            "align_items": null,
            "bottom": null,
            "_model_module": "@jupyter-widgets/base",
            "top": null,
            "grid_column": null,
            "overflow_y": null,
            "overflow_x": null,
            "grid_auto_flow": null,
            "grid_area": null,
            "grid_template_columns": null,
            "flex": null,
            "_model_name": "LayoutModel",
            "justify_items": null,
            "grid_row": null,
            "max_height": null,
            "align_content": null,
            "visibility": null,
            "align_self": null,
            "height": null,
            "min_height": null,
            "padding": null,
            "grid_auto_rows": null,
            "grid_gap": null,
            "max_width": null,
            "order": null,
            "_view_module_version": "1.2.0",
            "grid_template_areas": null,
            "object_position": null,
            "object_fit": null,
            "grid_auto_columns": null,
            "margin": null,
            "display": null,
            "left": null
          }
        },
        "48c1684fd20e47ef8b22cbb7a56b0532": {
          "model_module": "@jupyter-widgets/controls",
          "model_name": "DropdownModel",
          "model_module_version": "1.5.0",
          "state": {
            "_options_labels": [
              "ene-21",
              "feb-21",
              "mar-14",
              "mar-15",
              "mar-16",
              "mar-17",
              "mar-18",
              "mar-19",
              "mar-21",
              "abr-21",
              "may-21",
              "jun-08",
              "jun-10",
              "jun-11",
              "jun-12",
              "jun-13",
              "jun-14",
              "jun-15",
              "jun-16",
              "jun-17",
              "jun-18",
              "jun-19",
              "jun-21",
              "jul-21",
              "ago-21",
              "sep-14",
              "sep-15",
              "sep-16",
              "sep-17",
              "sep-18",
              "sep-19",
              "sep-20",
              "sep-21",
              "oct-20",
              "oct-21",
              "nov-20",
              "dic-07",
              "dic-08",
              "dic-09",
              "dic-10",
              "dic-11",
              "dic-12",
              "dic-13",
              "dic-14",
              "dic-15",
              "dic-16",
              "dic-17",
              "dic-18",
              "dic-19",
              "dic-20"
            ],
            "_view_name": "DropdownView",
            "style": "IPY_MODEL_8dc73418d5ee4ab999427373b0877d66",
            "_dom_classes": [],
            "description": "Fecha Inicio",
            "_model_name": "DropdownModel",
            "index": 0,
            "_view_module": "@jupyter-widgets/controls",
            "_model_module_version": "1.5.0",
            "_view_count": null,
            "disabled": false,
            "_view_module_version": "1.5.0",
            "description_tooltip": null,
            "_model_module": "@jupyter-widgets/controls",
            "layout": "IPY_MODEL_a6a4f4ad98034b7da24e8432fbee99b0"
          }
        },
        "6a93b9ca3de04c9f83706fc1dfe9af80": {
          "model_module": "@jupyter-widgets/controls",
          "model_name": "DropdownModel",
          "model_module_version": "1.5.0",
          "state": {
            "_options_labels": [
              "ene-21",
              "feb-21",
              "mar-14",
              "mar-15",
              "mar-16",
              "mar-17",
              "mar-18",
              "mar-19",
              "mar-21",
              "abr-21",
              "may-21",
              "jun-08",
              "jun-10",
              "jun-11",
              "jun-12",
              "jun-13",
              "jun-14",
              "jun-15",
              "jun-16",
              "jun-17",
              "jun-18",
              "jun-19",
              "jun-21",
              "jul-21",
              "ago-21",
              "sep-14",
              "sep-15",
              "sep-16",
              "sep-17",
              "sep-18",
              "sep-19",
              "sep-20",
              "sep-21",
              "oct-20",
              "oct-21",
              "nov-20",
              "dic-07",
              "dic-08",
              "dic-09",
              "dic-10",
              "dic-11",
              "dic-12",
              "dic-13",
              "dic-14",
              "dic-15",
              "dic-16",
              "dic-17",
              "dic-18",
              "dic-19",
              "dic-20"
            ],
            "_view_name": "DropdownView",
            "style": "IPY_MODEL_1b757c06c0624df2a5b4d2b3dab01beb",
            "_dom_classes": [],
            "description": "Fecha Fin",
            "_model_name": "DropdownModel",
            "index": 49,
            "_view_module": "@jupyter-widgets/controls",
            "_model_module_version": "1.5.0",
            "_view_count": null,
            "disabled": false,
            "_view_module_version": "1.5.0",
            "description_tooltip": null,
            "_model_module": "@jupyter-widgets/controls",
            "layout": "IPY_MODEL_11f725d7580745e7a90290e59f811954"
          }
        },
        "a1f0bf48fd0f4ddea5983935c8726076": {
          "model_module": "@jupyter-widgets/controls",
          "model_name": "TabModel",
          "model_module_version": "1.5.0",
          "state": {
            "_view_name": "TabView",
            "_dom_classes": [],
            "_titles": {
              "0": "Datos",
              "1": "Gráficos"
            },
            "_model_name": "TabModel",
            "_view_module": "@jupyter-widgets/controls",
            "selected_index": 0,
            "_model_module_version": "1.5.0",
            "_view_count": null,
            "_view_module_version": "1.5.0",
            "box_style": "",
            "layout": "IPY_MODEL_f16dfb9ab80f47119cf00b5350d35a3c",
            "_model_module": "@jupyter-widgets/controls",
            "children": [
              "IPY_MODEL_bba790140ef94bcfb268e654eadb53c0",
              "IPY_MODEL_83787ebbd09c41059f6f74c4d365d337"
            ]
          }
        },
        "8dc73418d5ee4ab999427373b0877d66": {
          "model_module": "@jupyter-widgets/controls",
          "model_name": "DescriptionStyleModel",
          "model_module_version": "1.5.0",
          "state": {
            "_view_name": "StyleView",
            "_model_name": "DescriptionStyleModel",
            "description_width": "",
            "_view_module": "@jupyter-widgets/base",
            "_model_module_version": "1.5.0",
            "_view_count": null,
            "_view_module_version": "1.2.0",
            "_model_module": "@jupyter-widgets/controls"
          }
        },
        "a6a4f4ad98034b7da24e8432fbee99b0": {
          "model_module": "@jupyter-widgets/base",
          "model_name": "LayoutModel",
          "model_module_version": "1.2.0",
          "state": {
            "_view_name": "LayoutView",
            "grid_template_rows": null,
            "right": null,
            "justify_content": null,
            "_view_module": "@jupyter-widgets/base",
            "overflow": null,
            "_model_module_version": "1.2.0",
            "_view_count": null,
            "flex_flow": null,
            "width": null,
            "min_width": null,
            "border": null,
            "align_items": null,
            "bottom": null,
            "_model_module": "@jupyter-widgets/base",
            "top": null,
            "grid_column": null,
            "overflow_y": null,
            "overflow_x": null,
            "grid_auto_flow": null,
            "grid_area": null,
            "grid_template_columns": null,
            "flex": null,
            "_model_name": "LayoutModel",
            "justify_items": null,
            "grid_row": null,
            "max_height": null,
            "align_content": null,
            "visibility": null,
            "align_self": null,
            "height": null,
            "min_height": null,
            "padding": null,
            "grid_auto_rows": null,
            "grid_gap": null,
            "max_width": null,
            "order": null,
            "_view_module_version": "1.2.0",
            "grid_template_areas": null,
            "object_position": null,
            "object_fit": null,
            "grid_auto_columns": null,
            "margin": null,
            "display": null,
            "left": null
          }
        },
        "1b757c06c0624df2a5b4d2b3dab01beb": {
          "model_module": "@jupyter-widgets/controls",
          "model_name": "DescriptionStyleModel",
          "model_module_version": "1.5.0",
          "state": {
            "_view_name": "StyleView",
            "_model_name": "DescriptionStyleModel",
            "description_width": "",
            "_view_module": "@jupyter-widgets/base",
            "_model_module_version": "1.5.0",
            "_view_count": null,
            "_view_module_version": "1.2.0",
            "_model_module": "@jupyter-widgets/controls"
          }
        },
        "11f725d7580745e7a90290e59f811954": {
          "model_module": "@jupyter-widgets/base",
          "model_name": "LayoutModel",
          "model_module_version": "1.2.0",
          "state": {
            "_view_name": "LayoutView",
            "grid_template_rows": null,
            "right": null,
            "justify_content": null,
            "_view_module": "@jupyter-widgets/base",
            "overflow": null,
            "_model_module_version": "1.2.0",
            "_view_count": null,
            "flex_flow": null,
            "width": null,
            "min_width": null,
            "border": null,
            "align_items": null,
            "bottom": null,
            "_model_module": "@jupyter-widgets/base",
            "top": null,
            "grid_column": null,
            "overflow_y": null,
            "overflow_x": null,
            "grid_auto_flow": null,
            "grid_area": null,
            "grid_template_columns": null,
            "flex": null,
            "_model_name": "LayoutModel",
            "justify_items": null,
            "grid_row": null,
            "max_height": null,
            "align_content": null,
            "visibility": null,
            "align_self": null,
            "height": null,
            "min_height": null,
            "padding": null,
            "grid_auto_rows": null,
            "grid_gap": null,
            "max_width": null,
            "order": null,
            "_view_module_version": "1.2.0",
            "grid_template_areas": null,
            "object_position": null,
            "object_fit": null,
            "grid_auto_columns": null,
            "margin": null,
            "display": null,
            "left": null
          }
        },
        "f16dfb9ab80f47119cf00b5350d35a3c": {
          "model_module": "@jupyter-widgets/base",
          "model_name": "LayoutModel",
          "model_module_version": "1.2.0",
          "state": {
            "_view_name": "LayoutView",
            "grid_template_rows": null,
            "right": null,
            "justify_content": null,
            "_view_module": "@jupyter-widgets/base",
            "overflow": null,
            "_model_module_version": "1.2.0",
            "_view_count": null,
            "flex_flow": null,
            "width": null,
            "min_width": null,
            "border": null,
            "align_items": null,
            "bottom": null,
            "_model_module": "@jupyter-widgets/base",
            "top": null,
            "grid_column": null,
            "overflow_y": null,
            "overflow_x": null,
            "grid_auto_flow": null,
            "grid_area": null,
            "grid_template_columns": null,
            "flex": null,
            "_model_name": "LayoutModel",
            "justify_items": null,
            "grid_row": null,
            "max_height": null,
            "align_content": null,
            "visibility": null,
            "align_self": null,
            "height": null,
            "min_height": null,
            "padding": null,
            "grid_auto_rows": null,
            "grid_gap": null,
            "max_width": null,
            "order": null,
            "_view_module_version": "1.2.0",
            "grid_template_areas": null,
            "object_position": null,
            "object_fit": null,
            "grid_auto_columns": null,
            "margin": null,
            "display": null,
            "left": null
          }
        },
        "bba790140ef94bcfb268e654eadb53c0": {
          "model_module": "@jupyter-widgets/output",
          "model_name": "OutputModel",
          "model_module_version": "1.0.0",
          "state": {
            "_view_name": "OutputView",
            "msg_id": "",
            "_dom_classes": [],
            "_model_name": "OutputModel",
            "outputs": [
              {
                "output_type": "display_data",
                "data": {
                  "text/html": "<div>\n<style scoped>\n    .dataframe tbody tr th:only-of-type {\n        vertical-align: middle;\n    }\n\n    .dataframe tbody tr th {\n        vertical-align: top;\n    }\n\n    .dataframe thead th {\n        text-align: right;\n    }\n</style>\n<table border=\"1\" class=\"dataframe\">\n  <thead>\n    <tr style=\"text-align: right;\">\n      <th></th>\n      <th>Fecha</th>\n      <th>Empleado</th>\n      <th>Desempleado</th>\n    </tr>\n  </thead>\n  <tbody>\n    <tr>\n      <th>0</th>\n      <td>ene-21</td>\n      <td>7900929.0</td>\n      <td>445172.0</td>\n    </tr>\n    <tr>\n      <th>1</th>\n      <td>feb-21</td>\n      <td>7790521.0</td>\n      <td>447181.0</td>\n    </tr>\n    <tr>\n      <th>2</th>\n      <td>mar-14</td>\n      <td>6706314.0</td>\n      <td>342096.0</td>\n    </tr>\n    <tr>\n      <th>3</th>\n      <td>mar-15</td>\n      <td>7091116.0</td>\n      <td>282967.0</td>\n    </tr>\n    <tr>\n      <th>4</th>\n      <td>mar-16</td>\n      <td>7412671.0</td>\n      <td>448990.0</td>\n    </tr>\n    <tr>\n      <th>5</th>\n      <td>mar-17</td>\n      <td>7728968.0</td>\n      <td>355414.0</td>\n    </tr>\n    <tr>\n      <th>6</th>\n      <td>mar-18</td>\n      <td>7802374.0</td>\n      <td>362051.0</td>\n    </tr>\n    <tr>\n      <th>7</th>\n      <td>mar-19</td>\n      <td>7786532.0</td>\n      <td>376255.0</td>\n    </tr>\n    <tr>\n      <th>8</th>\n      <td>mar-21</td>\n      <td>7661623.0</td>\n      <td>392631.0</td>\n    </tr>\n    <tr>\n      <th>9</th>\n      <td>abr-21</td>\n      <td>7898750.0</td>\n      <td>425840.0</td>\n    </tr>\n    <tr>\n      <th>10</th>\n      <td>may-21</td>\n      <td>7963336.0</td>\n      <td>537958.0</td>\n    </tr>\n    <tr>\n      <th>11</th>\n      <td>jun-08</td>\n      <td>6245225.0</td>\n      <td>344143.0</td>\n    </tr>\n    <tr>\n      <th>12</th>\n      <td>jun-10</td>\n      <td>6174141.0</td>\n      <td>408318.0</td>\n    </tr>\n    <tr>\n      <th>13</th>\n      <td>jun-11</td>\n      <td>6224584.0</td>\n      <td>329205.0</td>\n    </tr>\n    <tr>\n      <th>14</th>\n      <td>jun-12</td>\n      <td>6588271.0</td>\n      <td>282571.0</td>\n    </tr>\n    <tr>\n      <th>15</th>\n      <td>jun-13</td>\n      <td>6725795.0</td>\n      <td>273951.0</td>\n    </tr>\n    <tr>\n      <th>16</th>\n      <td>jun-14</td>\n      <td>6643458.0</td>\n      <td>324289.0</td>\n    </tr>\n    <tr>\n      <th>17</th>\n      <td>jun-15</td>\n      <td>7098584.0</td>\n      <td>332117.0</td>\n    </tr>\n    <tr>\n      <th>18</th>\n      <td>jun-16</td>\n      <td>7415099.0</td>\n      <td>416883.0</td>\n    </tr>\n    <tr>\n      <th>19</th>\n      <td>jun-17</td>\n      <td>7781560.0</td>\n      <td>366004.0</td>\n    </tr>\n    <tr>\n      <th>20</th>\n      <td>jun-18</td>\n      <td>7648773.0</td>\n      <td>330097.0</td>\n    </tr>\n    <tr>\n      <th>21</th>\n      <td>jun-19</td>\n      <td>7865786.0</td>\n      <td>366163.0</td>\n    </tr>\n    <tr>\n      <th>22</th>\n      <td>jun-21</td>\n      <td>7905781.0</td>\n      <td>426875.0</td>\n    </tr>\n    <tr>\n      <th>23</th>\n      <td>jul-21</td>\n      <td>7850799.0</td>\n      <td>426684.0</td>\n    </tr>\n    <tr>\n      <th>24</th>\n      <td>ago-21</td>\n      <td>8125322.0</td>\n      <td>415041.0</td>\n    </tr>\n    <tr>\n      <th>25</th>\n      <td>sep-14</td>\n      <td>6866776.0</td>\n      <td>278421.0</td>\n    </tr>\n    <tr>\n      <th>26</th>\n      <td>sep-15</td>\n      <td>7274221.0</td>\n      <td>325496.0</td>\n    </tr>\n    <tr>\n      <th>27</th>\n      <td>sep-16</td>\n      <td>7637986.0</td>\n      <td>419173.0</td>\n    </tr>\n    <tr>\n      <th>28</th>\n      <td>sep-17</td>\n      <td>7842471.0</td>\n      <td>338577.0</td>\n    </tr>\n    <tr>\n      <th>29</th>\n      <td>sep-18</td>\n      <td>7933625.0</td>\n      <td>332818.0</td>\n    </tr>\n    <tr>\n      <th>30</th>\n      <td>sep-19</td>\n      <td>7972485.0</td>\n      <td>406871.0</td>\n    </tr>\n    <tr>\n      <th>31</th>\n      <td>sep-20</td>\n      <td>7501527.0</td>\n      <td>491609.0</td>\n    </tr>\n    <tr>\n      <th>32</th>\n      <td>sep-21</td>\n      <td>8066696.0</td>\n      <td>412441.0</td>\n    </tr>\n    <tr>\n      <th>33</th>\n      <td>oct-20</td>\n      <td>7805426.0</td>\n      <td>477372.0</td>\n    </tr>\n    <tr>\n      <th>34</th>\n      <td>oct-21</td>\n      <td>8014144.0</td>\n      <td>384204.0</td>\n    </tr>\n    <tr>\n      <th>35</th>\n      <td>nov-20</td>\n      <td>7698733.0</td>\n      <td>460345.0</td>\n    </tr>\n    <tr>\n      <th>36</th>\n      <td>dic-07</td>\n      <td>6019332.0</td>\n      <td>316697.0</td>\n    </tr>\n    <tr>\n      <th>37</th>\n      <td>dic-08</td>\n      <td>6005395.0</td>\n      <td>380026.0</td>\n    </tr>\n    <tr>\n      <th>38</th>\n      <td>dic-09</td>\n      <td>6125135.0</td>\n      <td>423802.0</td>\n    </tr>\n    <tr>\n      <th>39</th>\n      <td>dic-10</td>\n      <td>6113230.0</td>\n      <td>323027.0</td>\n    </tr>\n    <tr>\n      <th>40</th>\n      <td>dic-11</td>\n      <td>6304834.0</td>\n      <td>276787.0</td>\n    </tr>\n    <tr>\n      <th>41</th>\n      <td>dic-12</td>\n      <td>6424840.0</td>\n      <td>276174.0</td>\n    </tr>\n    <tr>\n      <th>42</th>\n      <td>dic-13</td>\n      <td>6664241.0</td>\n      <td>288745.0</td>\n    </tr>\n    <tr>\n      <th>43</th>\n      <td>dic-14</td>\n      <td>6921107.0</td>\n      <td>273414.0</td>\n    </tr>\n    <tr>\n      <th>44</th>\n      <td>dic-15</td>\n      <td>7140636.0</td>\n      <td>357892.0</td>\n    </tr>\n    <tr>\n      <th>45</th>\n      <td>dic-16</td>\n      <td>7463579.0</td>\n      <td>410441.0</td>\n    </tr>\n    <tr>\n      <th>46</th>\n      <td>dic-17</td>\n      <td>7712177.0</td>\n      <td>373871.0</td>\n    </tr>\n    <tr>\n      <th>47</th>\n      <td>dic-18</td>\n      <td>7731032.0</td>\n      <td>296097.0</td>\n    </tr>\n    <tr>\n      <th>48</th>\n      <td>dic-19</td>\n      <td>7787896.0</td>\n      <td>311134.0</td>\n    </tr>\n    <tr>\n      <th>49</th>\n      <td>dic-20</td>\n      <td>7687687.0</td>\n      <td>396504.0</td>\n    </tr>\n  </tbody>\n</table>\n</div>",
                  "text/plain": "     Fecha   Empleado  Desempleado\n0   ene-21  7900929.0     445172.0\n1   feb-21  7790521.0     447181.0\n2   mar-14  6706314.0     342096.0\n3   mar-15  7091116.0     282967.0\n4   mar-16  7412671.0     448990.0\n5   mar-17  7728968.0     355414.0\n6   mar-18  7802374.0     362051.0\n7   mar-19  7786532.0     376255.0\n8   mar-21  7661623.0     392631.0\n9   abr-21  7898750.0     425840.0\n10  may-21  7963336.0     537958.0\n11  jun-08  6245225.0     344143.0\n12  jun-10  6174141.0     408318.0\n13  jun-11  6224584.0     329205.0\n14  jun-12  6588271.0     282571.0\n15  jun-13  6725795.0     273951.0\n16  jun-14  6643458.0     324289.0\n17  jun-15  7098584.0     332117.0\n18  jun-16  7415099.0     416883.0\n19  jun-17  7781560.0     366004.0\n20  jun-18  7648773.0     330097.0\n21  jun-19  7865786.0     366163.0\n22  jun-21  7905781.0     426875.0\n23  jul-21  7850799.0     426684.0\n24  ago-21  8125322.0     415041.0\n25  sep-14  6866776.0     278421.0\n26  sep-15  7274221.0     325496.0\n27  sep-16  7637986.0     419173.0\n28  sep-17  7842471.0     338577.0\n29  sep-18  7933625.0     332818.0\n30  sep-19  7972485.0     406871.0\n31  sep-20  7501527.0     491609.0\n32  sep-21  8066696.0     412441.0\n33  oct-20  7805426.0     477372.0\n34  oct-21  8014144.0     384204.0\n35  nov-20  7698733.0     460345.0\n36  dic-07  6019332.0     316697.0\n37  dic-08  6005395.0     380026.0\n38  dic-09  6125135.0     423802.0\n39  dic-10  6113230.0     323027.0\n40  dic-11  6304834.0     276787.0\n41  dic-12  6424840.0     276174.0\n42  dic-13  6664241.0     288745.0\n43  dic-14  6921107.0     273414.0\n44  dic-15  7140636.0     357892.0\n45  dic-16  7463579.0     410441.0\n46  dic-17  7712177.0     373871.0\n47  dic-18  7731032.0     296097.0\n48  dic-19  7787896.0     311134.0\n49  dic-20  7687687.0     396504.0"
                },
                "metadata": {}
              }
            ],
            "_view_module": "@jupyter-widgets/output",
            "_model_module_version": "1.0.0",
            "_view_count": null,
            "_view_module_version": "1.0.0",
            "layout": "IPY_MODEL_886b93914d714c83b0443051b5090e79",
            "_model_module": "@jupyter-widgets/output"
          }
        },
        "83787ebbd09c41059f6f74c4d365d337": {
          "model_module": "@jupyter-widgets/output",
          "model_name": "OutputModel",
          "model_module_version": "1.0.0",
          "state": {
            "_view_name": "OutputView",
            "msg_id": "",
            "_dom_classes": [],
            "_model_name": "OutputModel",
            "outputs": [
              {
                "output_type": "stream",
                "name": "stderr",
                "text": [
                  "No handles with labels found to put in legend.\n"
                ]
              },
              {
                "output_type": "stream",
                "name": "stderr",
                "text": [
                  "No handles with labels found to put in legend.\n"
                ]
              },
              {
                "output_type": "display_data",
                "data": {
                  "image/png": "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\n",
                  "text/plain": "<Figure size 720x864 with 2 Axes>"
                },
                "metadata": {
                  "needs_background": "light"
                }
              }
            ],
            "_view_module": "@jupyter-widgets/output",
            "_model_module_version": "1.0.0",
            "_view_count": null,
            "_view_module_version": "1.0.0",
            "layout": "IPY_MODEL_323ad9d921e44a36956bc6d1d534704f",
            "_model_module": "@jupyter-widgets/output"
          }
        },
        "886b93914d714c83b0443051b5090e79": {
          "model_module": "@jupyter-widgets/base",
          "model_name": "LayoutModel",
          "model_module_version": "1.2.0",
          "state": {
            "_view_name": "LayoutView",
            "grid_template_rows": null,
            "right": null,
            "justify_content": null,
            "_view_module": "@jupyter-widgets/base",
            "overflow": null,
            "_model_module_version": "1.2.0",
            "_view_count": null,
            "flex_flow": null,
            "width": null,
            "min_width": null,
            "border": null,
            "align_items": null,
            "bottom": null,
            "_model_module": "@jupyter-widgets/base",
            "top": null,
            "grid_column": null,
            "overflow_y": null,
            "overflow_x": null,
            "grid_auto_flow": null,
            "grid_area": null,
            "grid_template_columns": null,
            "flex": null,
            "_model_name": "LayoutModel",
            "justify_items": null,
            "grid_row": null,
            "max_height": null,
            "align_content": null,
            "visibility": null,
            "align_self": null,
            "height": null,
            "min_height": null,
            "padding": null,
            "grid_auto_rows": null,
            "grid_gap": null,
            "max_width": null,
            "order": null,
            "_view_module_version": "1.2.0",
            "grid_template_areas": null,
            "object_position": null,
            "object_fit": null,
            "grid_auto_columns": null,
            "margin": null,
            "display": null,
            "left": null
          }
        },
        "323ad9d921e44a36956bc6d1d534704f": {
          "model_module": "@jupyter-widgets/base",
          "model_name": "LayoutModel",
          "model_module_version": "1.2.0",
          "state": {
            "_view_name": "LayoutView",
            "grid_template_rows": null,
            "right": null,
            "justify_content": null,
            "_view_module": "@jupyter-widgets/base",
            "overflow": null,
            "_model_module_version": "1.2.0",
            "_view_count": null,
            "flex_flow": null,
            "width": null,
            "min_width": null,
            "border": null,
            "align_items": null,
            "bottom": null,
            "_model_module": "@jupyter-widgets/base",
            "top": null,
            "grid_column": null,
            "overflow_y": null,
            "overflow_x": null,
            "grid_auto_flow": null,
            "grid_area": null,
            "grid_template_columns": null,
            "flex": null,
            "_model_name": "LayoutModel",
            "justify_items": null,
            "grid_row": null,
            "max_height": null,
            "align_content": null,
            "visibility": null,
            "align_self": null,
            "height": null,
            "min_height": null,
            "padding": null,
            "grid_auto_rows": null,
            "grid_gap": null,
            "max_width": null,
            "order": null,
            "_view_module_version": "1.2.0",
            "grid_template_areas": null,
            "object_position": null,
            "object_fit": null,
            "grid_auto_columns": null,
            "margin": null,
            "display": null,
            "left": null
          }
        },
        "bd90459259d746228a2e33b5d2bf894a": {
          "model_module": "@jupyter-widgets/controls",
          "model_name": "VBoxModel",
          "model_module_version": "1.5.0",
          "state": {
            "_view_name": "VBoxView",
            "_dom_classes": [],
            "_model_name": "VBoxModel",
            "_view_module": "@jupyter-widgets/controls",
            "_model_module_version": "1.5.0",
            "_view_count": null,
            "_view_module_version": "1.5.0",
            "box_style": "",
            "layout": "IPY_MODEL_f76b02c341b7411082092c30c91b693f",
            "_model_module": "@jupyter-widgets/controls",
            "children": [
              "IPY_MODEL_3abc38c58525411ca13d1d2e0c747f62",
              "IPY_MODEL_6441e115e52b49298854d359cff2e500"
            ]
          }
        },
        "f76b02c341b7411082092c30c91b693f": {
          "model_module": "@jupyter-widgets/base",
          "model_name": "LayoutModel",
          "model_module_version": "1.2.0",
          "state": {
            "_view_name": "LayoutView",
            "grid_template_rows": null,
            "right": null,
            "justify_content": null,
            "_view_module": "@jupyter-widgets/base",
            "overflow": null,
            "_model_module_version": "1.2.0",
            "_view_count": null,
            "flex_flow": null,
            "width": null,
            "min_width": null,
            "border": null,
            "align_items": null,
            "bottom": null,
            "_model_module": "@jupyter-widgets/base",
            "top": null,
            "grid_column": null,
            "overflow_y": null,
            "overflow_x": null,
            "grid_auto_flow": null,
            "grid_area": null,
            "grid_template_columns": null,
            "flex": null,
            "_model_name": "LayoutModel",
            "justify_items": null,
            "grid_row": null,
            "max_height": null,
            "align_content": null,
            "visibility": null,
            "align_self": null,
            "height": null,
            "min_height": null,
            "padding": null,
            "grid_auto_rows": null,
            "grid_gap": null,
            "max_width": null,
            "order": null,
            "_view_module_version": "1.2.0",
            "grid_template_areas": null,
            "object_position": null,
            "object_fit": null,
            "grid_auto_columns": null,
            "margin": null,
            "display": null,
            "left": null
          }
        },
        "3abc38c58525411ca13d1d2e0c747f62": {
          "model_module": "@jupyter-widgets/controls",
          "model_name": "DropdownModel",
          "model_module_version": "1.5.0",
          "state": {
            "_options_labels": [
              "ene-21",
              "feb-21",
              "mar-14",
              "mar-15",
              "mar-16",
              "mar-17",
              "mar-18",
              "mar-19",
              "mar-21",
              "abr-21",
              "may-21",
              "jun-08",
              "jun-10",
              "jun-11",
              "jun-12",
              "jun-13",
              "jun-14",
              "jun-15",
              "jun-16",
              "jun-17",
              "jun-18",
              "jun-19",
              "jun-21",
              "jul-21",
              "ago-21",
              "sep-14",
              "sep-15",
              "sep-16",
              "sep-17",
              "sep-18",
              "sep-19",
              "sep-20",
              "sep-21",
              "oct-20",
              "oct-21",
              "nov-20",
              "dic-07",
              "dic-08",
              "dic-09",
              "dic-10",
              "dic-11",
              "dic-12",
              "dic-13",
              "dic-14",
              "dic-15",
              "dic-16",
              "dic-17",
              "dic-18",
              "dic-19",
              "dic-20"
            ],
            "_view_name": "DropdownView",
            "style": "IPY_MODEL_acff5c2235f24529810c58912999ae48",
            "_dom_classes": [],
            "description": "Fecha",
            "_model_name": "DropdownModel",
            "index": 8,
            "_view_module": "@jupyter-widgets/controls",
            "_model_module_version": "1.5.0",
            "_view_count": null,
            "disabled": false,
            "_view_module_version": "1.5.0",
            "description_tooltip": null,
            "_model_module": "@jupyter-widgets/controls",
            "layout": "IPY_MODEL_b158d503359a41a7b1025737869ce146"
          }
        },
        "6441e115e52b49298854d359cff2e500": {
          "model_module": "@jupyter-widgets/controls",
          "model_name": "TabModel",
          "model_module_version": "1.5.0",
          "state": {
            "_view_name": "TabView",
            "_dom_classes": [],
            "_titles": {
              "1": "Gráficos"
            },
            "_model_name": "TabModel",
            "_view_module": "@jupyter-widgets/controls",
            "selected_index": 0,
            "_model_module_version": "1.5.0",
            "_view_count": null,
            "_view_module_version": "1.5.0",
            "box_style": "",
            "layout": "IPY_MODEL_c8a35236ba7b4e09aebc7a6b0ebdc95d",
            "_model_module": "@jupyter-widgets/controls",
            "children": [
              "IPY_MODEL_1bafd3342c174321b9cf09aefb1ece1c"
            ]
          }
        },
        "acff5c2235f24529810c58912999ae48": {
          "model_module": "@jupyter-widgets/controls",
          "model_name": "DescriptionStyleModel",
          "model_module_version": "1.5.0",
          "state": {
            "_view_name": "StyleView",
            "_model_name": "DescriptionStyleModel",
            "description_width": "",
            "_view_module": "@jupyter-widgets/base",
            "_model_module_version": "1.5.0",
            "_view_count": null,
            "_view_module_version": "1.2.0",
            "_model_module": "@jupyter-widgets/controls"
          }
        },
        "b158d503359a41a7b1025737869ce146": {
          "model_module": "@jupyter-widgets/base",
          "model_name": "LayoutModel",
          "model_module_version": "1.2.0",
          "state": {
            "_view_name": "LayoutView",
            "grid_template_rows": null,
            "right": null,
            "justify_content": null,
            "_view_module": "@jupyter-widgets/base",
            "overflow": null,
            "_model_module_version": "1.2.0",
            "_view_count": null,
            "flex_flow": null,
            "width": null,
            "min_width": null,
            "border": null,
            "align_items": null,
            "bottom": null,
            "_model_module": "@jupyter-widgets/base",
            "top": null,
            "grid_column": null,
            "overflow_y": null,
            "overflow_x": null,
            "grid_auto_flow": null,
            "grid_area": null,
            "grid_template_columns": null,
            "flex": null,
            "_model_name": "LayoutModel",
            "justify_items": null,
            "grid_row": null,
            "max_height": null,
            "align_content": null,
            "visibility": null,
            "align_self": null,
            "height": null,
            "min_height": null,
            "padding": null,
            "grid_auto_rows": null,
            "grid_gap": null,
            "max_width": null,
            "order": null,
            "_view_module_version": "1.2.0",
            "grid_template_areas": null,
            "object_position": null,
            "object_fit": null,
            "grid_auto_columns": null,
            "margin": null,
            "display": null,
            "left": null
          }
        },
        "c8a35236ba7b4e09aebc7a6b0ebdc95d": {
          "model_module": "@jupyter-widgets/base",
          "model_name": "LayoutModel",
          "model_module_version": "1.2.0",
          "state": {
            "_view_name": "LayoutView",
            "grid_template_rows": null,
            "right": null,
            "justify_content": null,
            "_view_module": "@jupyter-widgets/base",
            "overflow": null,
            "_model_module_version": "1.2.0",
            "_view_count": null,
            "flex_flow": null,
            "width": null,
            "min_width": null,
            "border": null,
            "align_items": null,
            "bottom": null,
            "_model_module": "@jupyter-widgets/base",
            "top": null,
            "grid_column": null,
            "overflow_y": null,
            "overflow_x": null,
            "grid_auto_flow": null,
            "grid_area": null,
            "grid_template_columns": null,
            "flex": null,
            "_model_name": "LayoutModel",
            "justify_items": null,
            "grid_row": null,
            "max_height": null,
            "align_content": null,
            "visibility": null,
            "align_self": null,
            "height": null,
            "min_height": null,
            "padding": null,
            "grid_auto_rows": null,
            "grid_gap": null,
            "max_width": null,
            "order": null,
            "_view_module_version": "1.2.0",
            "grid_template_areas": null,
            "object_position": null,
            "object_fit": null,
            "grid_auto_columns": null,
            "margin": null,
            "display": null,
            "left": null
          }
        },
        "1bafd3342c174321b9cf09aefb1ece1c": {
          "model_module": "@jupyter-widgets/output",
          "model_name": "OutputModel",
          "model_module_version": "1.0.0",
          "state": {
            "_view_name": "OutputView",
            "msg_id": "",
            "_dom_classes": [],
            "_model_name": "OutputModel",
            "outputs": [
              {
                "output_type": "stream",
                "name": "stdout",
                "text": [
                  "GRAFICAS PIE POR SECTORIZACION\n",
                  " \n",
                  " \n"
                ]
              },
              {
                "output_type": "display_data",
                "data": {
                  "image/png": "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\n",
                  "text/plain": "<Figure size 432x288 with 1 Axes>"
                },
                "metadata": {}
              },
              {
                "output_type": "display_data",
                "data": {
                  "image/png": "iVBORw0KGgoAAAANSUhEUgAAAVwAAAD3CAYAAABRuuy1AAAABHNCSVQICAgIfAhkiAAAAAlwSFlzAAALEgAACxIB0t1+/AAAADh0RVh0U29mdHdhcmUAbWF0cGxvdGxpYiB2ZXJzaW9uMy4yLjIsIGh0dHA6Ly9tYXRwbG90bGliLm9yZy+WH4yJAAAgAElEQVR4nO3dd3wc1bXA8d9ZFcu2bMlyw70XMDbGxt4VzYYQCCSEZkogApOEGkoIhPBAEAKi1wAPAiGhKIQAoRkTHt2m7rpb7k2uuNuyJatLe98fcwVrWbLaamd3db6fz3zYnZ25c0bIR3fvzNwjxhiUUkq1Po/bASilVFuhCVcppSJEE65SSkWIJlyllIoQTbhKKRUhmnCVUipCNOECIjJZRDa5HUe4ichUEfnK7TiUUo64S7giYkRkaK11d4rIP92KqbFsgqwWkX0hy1Nux+UGEblEROaKSKGIbBKRB0UkMeTza0RkjoiUi8iLLoaqVKPFXcJtqtB/xFHiW2NMashyjdsBtbZ6/h90AH4HdAO8wI+Am0I+3wzkAP9o9QCVCpM2l3Brhg9E5I8ishV4IeSzW0Vkp4isE5GLQtb/VETm297WRhG5M+SzgbZXfYmIbLD73xbyeTsReVxENtvlcRFp14y4fyYiC0Rkj4h8IyJjQj7rJyJvicgOEdlVu1csIg+LSIGIrBWRU0PWXyoiy0SkSETyReSKgxx/qoh8LSKP2RjyReRou36jiGwXkUua+DP7tYhsAD6rfTxjzDPGmC+NMRXGmO+AV4BjQj5/yxjzDrCrqT9LpdzS5hKudQiQAQwALg9Z1w3oA1wCPCciI+xnxcDFQDrwU+AqETmzVpvHAiNwemJ3iMihdv1tgA8YCxwBTASymxKsiByJ05O7AugKPAtMs8k8AZgOrAcG2vj/HbK7F1hhz+1B4O8iIvaz7cDPgM7ApcBjIjLuIKF4gTwbw7/scSYAQ4FfAk+JSKrdtjE/s0nAocApjfgxHA8sacR2SkUvY0xcLYABhtZadyfwT/t6MlABpIR8PhmoAjqGrHsduL2eYzwOPGZfD7TH7Bvy+SzgAvt6DXBayGenAOvqaXeqjWNPyOIDngHurrXtCpyElQnsABLraW91yPsONtZD6jn+O8D1B4ltVcj70batniHrdgFjm/AzG9zI/6e/AjYB3er4LAd40e3fO110acwSjz3caiCp1rokoDLk/Q5jTFmtbQqMMcUh79cDvQFExCsin9uv7HuBK3F6jKG2hrwuAWp6er1tWwe0Ww+/MSY9ZPHj9MRvtF/l94jIHqCfbacfsN4YU1VPe9/HZYwpsS9T7XmdKiJ+Edlt2zytjvMKtS3kdalts/a6mrYb8zPbaLe9KOQi4QehG9he8X3AqcaYnQeJTamoF48JdwNODyrUIPZPenVNkdZFRDqGvO+Pc2EGnK/P04B+xpg04K+A0DibcRJmXe021kbgnlqJuIMx5lX7Wf+mXvyz48hvAg/j9FLTgf/S+PNqSGN+Zs5XEmNeMT9cJAwdY/4J8DfgdGPMojDFpZRr4jHhvgZki0hfEfGIyEnA6cB/GrHvn0UkWUSOwxnbfMOu7wTsNsaUichE4MImxPOqjae7iHQD7gCaeova34Arba9RRKSjvSjVCWf4Ygtwv12fIiLHHLw5AJKBdjjDEVX2YtrJTYzrYFryM0NETsS5UHaOMWZWHZ8nikgKkAAk2POOtjtOlNpPPCbcu4BvgK+AApwLRRcZYxY3sN9Wu/1mnH/oVxpjltvPrgbuEpEinIT5ehPiyQHm4FxsWgTMs+sazRgzB7gMeMrGuBpnTBVjTDXOH5ShOL37TcD5jWizCLgO51wKcBLitKbE1YCW/MwAbgfSgP/WM9yQjTOEcQvOBbtSmngxUqlIE2N0AnKllIqEeOzhKqVUVNKEq5RSEaIJVymlIkQTrlJKRYgmXKWUihBNuEopFSGacJVSKkI04SqlVIRowlVKqQjRhKuUUhGiCVcppSJEE65SSkWIJlyllIqQmEu4InKbiCwRkTxbVNHbjDYGikiT5metp51qG0PNMrClbTbh2Ovs/LpKqRgRUxM2i0gmzsTg44wx5TbhJDejqYE487/+qwnHTqyjjE2pMWZsUw9eT1tKqTgXaz3cXsBOY0w5gDFmpzFmM4CIjBeRmSIyV0Q+FJFedv1QEflERBaKyDwRGQLcDxxne6U32GoBL4jIIlva+wS771QRmSYinwGfNiZAERlr64TlicjbItLFrp8hTon0OcD19v1jIjJHnFLlE8Qpdb5KRHJC2nvHntMSEbm83gMrpaKf21Usm7LgFChcAKwEngYm2fVJOFUeutv35wP/sK8DwFn2dQpO5drJwPSQdm8M2X4kTuWEFJyqCpuAjHriqbbxLADetuvyQuK6C3jcvp4BPB2y7wzgAfv6epxKE71wyt5sArrazzLsf9sDi0PWr6OOKra66KJL9C4xNaRgjNknIuOB44ATgNdE5BacEjaHAx+LCDh1rrbYml99jDFv2/3LAOw2oY4FnrTbLBeR9cBw+9nHxpjd9YS035CCiKQB6caYmXbVS/xQFw2cemuhakraLAKWGGO22Hbycarx7gKuE5Gz7Hb9gGF2vVIqxsRUwoXva3jNAGaIyCLgEmAuTsLKDN3WJtyWKm54k2a3VW7/Gwx5XfM+UUQmAycBmcaYEhGZgdPzVkrFoJgawxWRESIyLGTVWJzy5yuA7vaiGiKSJCKjjFMocZOInGnXtxORDkARTlXZGl8CF9lthuOUMl/R1PiMMXuBAlv1FyALmHmQXRqSBhTYZDsS8LWgLaWUy2Kth5sKPCki6UAVTvXay40xFSIyBXjCfq1PBB4HluAkvWdF5C6gEjgXZ5y1WkQWAi/ijAc/Y3vMVcBU49wF0ZwYLwH+ahN7PnBps88W/g+nPPoynD8A/ha0pZRymVbtVUqpCImpIQWllIplmnCVUipCNOEqpVSEaMJVSqkIibW7FNqcXL+3GzAU54GHYUBPnNvFapZUnHtzk3GeUksESoC9B1l24tz1sCzLF9gZwdNRqk3TuxSiRK7fOxSYyA+JtWbp0sqH3gkss8vSmtdZvsDGVj6uUm2OJlyX5Pq9w3DmdJgMTAL6uBlPHbYAnwEfA59k+QLfuRyPUjFPE26E5Pq9A4GTcZJrNCbYhiwHPrHL51m+QKHL8SgVczThtqJcv7crcB7wS+Bol8MJp2rgW+DfwGs6DqxU42jCDbNcvzcF+DlOkv0JztSR8awS+BDIBd7J8gUqXI5HqailCTdMcv3eSTjzKJwDdHY5HLfsBF4G/pblCyx3Oxiloo0m3BbI9XsTcYYMbgKOdDmcaDMTuD/LF/g/twNRKlpowm2GXL+3PXAZ8HtggMvhRLsA8OcsX+ADtwNRym2acJvAJtorgZuBQ1wOJ9bMwkm8/3U7EKXcogm3EezQwVXArWiibanZOIn3fbcDUSrSNOE2INfvPQZ4BhjtdixxJgBcmeULLHA7EKUiRRNuPXL93u7Agzh3HjSr9INqUBVOZY4/ZfkCJW4Ho1Rr04RbS67f6wEuB+6l9ecxUI51wNV6YU3FO024IXL93nE4wwcT3Y6ljfo38LssX2Cb24Eo1Ro04fJ9r/ZPQDY6R7DbCoCbs3yB590ORKlwa/MJN9fv7Qn8CzjR7VjUft4Cpmb5AkVuB6JUuLTphJvr907GSba9XA5F1W0FcHaWL7DU7UCUCoc2mXBz/V7Buaf2z0CCy+GogysGfp3lC7zmdiBKtVSbS7h2ysR/4szkpWLH48AfsnyBKrcDUaq52lTCzfV7jwCmA33djkU1y5fAeVm+wFa3A1GqOdpMwrVPjE0H0t2ORbXIFuDULF9goduBKNVUbeIWqFy/91TgIzTZxoNewMxcv/dYtwNRqqniPuHm+r0XAO8CHdyORYVNGvBRrt97mtuBKNUUcZ1wc/3eq4BXiP8yN21Re+CdXL93ituBKNVYcZtwc/3e24CnieNzVCQBr+b6vee5HYhSjRGXySjX770HyHE7DhURicC/7NCRUlEt7u5SyPV7bwAedTsOFXHVOLeMveV2IErVJ64Sbq7f+0ucqrE6f23bVApMyvIFZrsdiFJ1iZuEm+v3noJzn22i27EoV20FvFm+wAa3A1GqtrhIuLl+72jga6CT27GoqLAYOCbLFyh0OxClQsV8ws31ew/BqY/V3+1YmuL3Zy0gpUMCngTBkwB3vXA4ALM+3c3bf/+OzetK+dPfD2PwoakH7FtRHuTeq5ZRWRkkWA0TTujC2Zc5Tys/d3c+y+cX0iHV6ehflj2IAcM77rf/yoVFvPTQOhKShKvvGsoh/VIoLqrif7NXc9NjI/B44mJE5v+An2X5AtVuB6JUjZj++m3Llr9LjCXbGv/zvyPplL7/LcJ9hrTnuvuG8sID6+rdLylZuOWpkaR0SKCqKkjOFcsYk5nO0MOd5HzBNf2ZeGJGvft/8OpWbnx0BDu2lPPZ29u58Lr+THthM6df0jteki04kxM9AfzW7UCUqhHrt4X9hTgrh9NnYHt6DWh/0G1EhJQOzqyS1VWG6iqDNCFPJiQK5WXVVJQFSUgUtm0qY9f2Cg4d17kloUejq3P93uvdDkKpGjGbcHP93rOBy9yOo9kEHrx+BXdMXczn72xv8u7BakP2xYu55rT5HD4xjSGjfhh6+M+zm7jtl4t45fH1VFYED9j39It78dxd+Ux/eTM/ntKT/zy7iSlXxO0Eao/k+r1Hux2EUhCjY7i5fm8fIA+o/3tzlNu9vYKMHskU7q7kgeuXk/X7AYw88oce5r1XL+OCa/vVOYYbqrioiiduWUXW7wfQd0gH9uysIK1rElWVhn/cv5aefVI489d96t1/+fxC5s4s4MSze/Dmc9+RmCj84rr+pGXE1dPQa4CxWb7APrcDUW1bzPVwbcHHl4nhZAuQ0SMZgM4ZSYyf1IX8pcXNaqdjp0QOHdeZPP9eANK7JSMiJCV7OP5n3VmztP4cY4xh2oubOePSPrzz981c8Nt+TP55dz56Pe6mmx0CPOJ2EErFXMIFbiLGCz6Wl1ZTWlz9/evFgUL6Dj74uG2owoJKioucwgcVZUEWz95LrwEpAOzZWQE4yXTuzAL6Dql/krSv/ruTMZnppKYlUlEWRDwgHqGi7MBhiDhwea7f+1O3g1BtW0wNKeT6veOBb4nx2b+2f1fGX25ZBUCwGjJP7srPp/YGYM6M3eQ+up6iPVV0SE2g//AO3Pz4SAp2VPD3+9Zy06Mj2LC6hOfuyscEDUED3hMzvh82uO+aZRQVVGGAAcM6MPXmgd9fYAtVXlbNozeu5A9/GUFioocVC5xbxRKThKv+PKTBC3cxaiswOssX2Ol2IKptipmEm+v3dgTmAcPdjkXFtDezfAGd0lG5IpaGFP6MJlvVcufk+r1Zbgeh2qaY6OHm+r3DgCXE+FCCihp7gaE6tKAiLVZ6uA+jyVaFTxrwJ7eDUG1P1Pdwc/3ek4CP3Y5DxZ1KYFSWL7DK7UBU2xHVPdxcvzcBeMztOFRcSgLudzsI1bZEdcIFLgcOdzsIFbfOzvV7j3E7CNV2RG3CzfV704G73I5Dxb2H3Q5AtR1Rm3CB24Fubgeh4p4v1+891+0gVNsQlRfNcv3eDGAjUP9zqUqFzxrgsCxfoMLtQFR8i9Ye7hVoslWRMwS4yO0gVPyLuoSb6/cmA9e6HYdqc25wOwAV/6Iu4QIXAL3cDkK1OaNz/d4fux2Eim/RmHC1p6Hc8nu3A1DxLaoumuX6vScCn7odh2qzDDBCnz5TrSXaerjaw1BuEpwLtkq1iqjp4eb6vcOB5Ti/9Eq5ZRfQN8sXKHM7EBV/oqmHezGabJX7ugL6IIRqFdGUcH/hdgBKWb90OwAVn6JiSCHX7/UCfrfjUMqqBLpn+QJ73Q5ExZdo6eFe4HYASoVIAk5zOwgVf6Il4Z7jdgBK1XKG2wGo+OP6kEKu3zsOmOtqEEodqBBnWEEntFFhEw093DPdDkCpOnQGTnQ7CBVfoiHh6lc3Fa20M6DCytUhhVy/twewzbUAlDq4LUCfLF/A/Vt5VFxwu4eb6fLxlTqYXsCRbgeh4ocmXKUOzut2ACp+aMJV6uCOcjsAFT9cS7i5fm8i+susop/+jqqwcbOHOwatW6ai36hcv7e920Go+OBmwtXhBBULEtALZypM3Ey4PhePrVRT6LCCCgs3E+5EF4+tVFNMcDsAFR9cSbi5fq8HGOTGsZVqBu3hqrBwq4fbC2cKPKViwVDbSVCqRdz6Jerv0nGVao5EoLvbQajYpwlXqcbp7XYAKvZpwlWqcTThqhbThKtU42jCVS2mCVepxtGEq1pME65SjaMJV7WYWwm3p0vHVaq5NOGqFnMr4Sa7dFylmquX2wGo2OdWwk106bhKNZfOGKZazK2Eq0+ZqVijnQTVYtrDVapxtJOgWkwTrlKNo7+zqsUi/kuU6/cK7tdSiylV1UmlxWWdd+8rS99bVJJRXFiaUV5U2qV6X2kXiss7J5ZVdEyprErpUBVMTDuq++KVF457t3TQsJUjPAnBdLdjjxcGCt2OQcU+McZE9IC5fm8SUBHRg0aZYNBTVVzeeVdxWdqeotIuxUUlGWWFpRmV+0q7mOLyzoml5anJFVXtO1ZVJ3cOGk8XkNSmHYCq/uurvz5pgN94f/Z/Cb2G5R8qHtOtlU6nrVjXo2u+TimqWsSNhNseKInoQVuZMZjSitSC4rK0gqLSLvuKSjNKikozKotKuph9ZWme0opOSeWV7dtXVSd3rg4mdgHSQKS145IgFf1X4++zqXrwCN+c7d5zpu/rPTz/ME2+zbKmR9f8oW4HoWKbGwk3EaiM6EGbobwypbC4LG3PvrL0wqKSjBLna3xG9b7SNE9JeefE8soO7Suq2qVWBxPTQTJAEtyOuT4SpHzgSvyHbORQjyfYdZhvTp7vnOlFvUasOdTjMTrtYOMs79E1/1C3g1CxLeIJFyDX7y0EOkXymFXViWXFZWm79pWl7y0q7VJSVNK1vLC0S9W+0i6UlHdOKKvomFJRlZJaFUxMM8aTAdIukvFFgqea0oErmNXzO0YJdBNPsHqYd26ed8r0ot4jVoc9+R515EY6pgoJCUJiAnz0aZ8Dtlm1qoLrr93Jorxy/ufWDK6+Ju37z66/bgcff1RCt24JfPFV3zqP8fzf9vLyS0X07ZvIiy/3JDlZCPjLmP5eMXff0zWcp/NNj675x4SzQdX2uJVw19PC+RSCQU9VSXmn3fvK0vfYr/GlRSUZ1UXOOGiCHQftUFWd1DloEjKaPA4axzxV7Bu8nDndt3CEQBcAJBgc5p2X55syvbD3yFVhSb5HHbmRDz/pTdeu9Xf+d+yoZtPGKj74oJj0tIT9Eu6335TSsaOHa367o96Ee+opm3n/g148/tgeRo1qx8mntOeC87bx1+e606VLWL90vNuja/6Z4WxQtT1u3eqym1oJ1xhMWUXHguKytD1FZV2KCksySotKu1YUlaYHi8vSPSXlqcnllR06VFUnd3K+xpMO0gPo4coZxLBgIqmrD2fy2pEUDlnKjK7bOFKMJ22V/6ixq/xH1STfhb4p0/eGK/nWp3v3BLp3T+CTjw8c1s88uj0bNhx89MkYqKyE0lJDUhL85419nPij9uFOtgA7w92gantcSbj/nf3rWQXFPUvKKjq0r7TjoAbp4oyFkuFGTG1RdSKdV45hckIle4cuYUbGDsYLdMJ4PKv8Rx1Rk3yHTpy/wDflvcI+h64a6fGYxv+BEzh/ylZEIOuSTlx8Seewn8Ovf9OJ036ymREjkpg4MYWLs7bx2huHhP04wI7WaFS1La4k3PxtYzoCR7txbHWg6iTSVoxlcmIFu4ctYUb6TiYIdATAeDyrA+PHrg6Md5LvhAULfVPe29PnsJUjPR5z0Fnf3nu/F716JbJjRzXnTdnKsGFJZB4d3ikJzj2vE+ee51wOeOShAn5zeWc+/aSEN17fR+/eifz57gw8nrDcEKI9XNVibg0pbHHpuOogqpLJWHYkk5PK2TFsMXPSdjNRQidtMR7P6lnjjlg9axxIMDjkqIULfVPe29P3sBUjPAnmgG5lr17Or1f37gmcdloH5s+rCHvCrbF1SxXz5pVz4x+6cObpW3jznUN47JE9fPlFGZMmh+WY2sNVLeZWwt3s0nFVI1S2o/vS8UxKLmPb8EXM6rQHn8D+d20Yj2fN7COPWDP7SMCYwUctzMuc8l5B31HLR3gSzCHFxUFMEFI7eSguDjJjRik33tR6D77df38Bf7zFuf5XWhZEBDweKCkJhusQ28PVkGq73Eq4+S4dVzVBRQo9F0+gZ7tSNg/PY3VqIZlS5yQuIvlzxo7JnzMWMGbw+Ly87ke9UvqnB/3jExMlsbrKcNY5qZz4ow4AvPSC85TsJZd2Zvu2Kk4+aTNFRUE8HuG5Z/fy5Td96dTJwxWXbeebr8vYvbuasaM38Ic/duGiXx54N+GivHIAxhzh/E04+5xUJh/3Hb37JPLba8OW5Fc3tIGIGOBRY8yN9v1NQKox5s7GHkRETgXuBjoA5cBnxpgbReROYJ8x5uGmBC0iRwEXG2OuE5F2wPtAN+A+4Mc23qVNabOOY8wAbjLGzGlJO+EkIrcBFwLVQBC4whgTaGIbA4GjjTH/CltcbtwW5s32DwVWRfzAqkVSStg0PI+1HYvIlEb9sTZm0Li8xZnnTdvdb9SK4Z6EYKxO4l0JdOjRNb/qYBuJSBnOcNkEY8zOpiZcETkceBf4qTFmuYgkAJcbY55pbsKt1b4PyDHGnNTcNuppdwYuJlwRSTTGVIW8zwQeBSYbY8pFpBuQbIxp0jdrEZmMc14/a24stbk1iUw+UOrSsVUzlXWgb56P4xZk8l1xKl8bp+dwECJr5x0x+l+33D7pgdNzD/l39i2L1i08bGaw2hNrY/hrG0q2VhXwHHBD7Q9EZKCIfCYieSLyqYjUdR/6zcA9xpjlAMaYamPMM3W0dZmIzBaRhSLypoh0sOvPFZHFdv0Xdt1kEZkuIj2AfwITRGSBiAwRkRm2B4yI/ERE5tl9P7XrJorItyIyX0S+EZERdn17Efm3iCwTkbcJGecXkV+IyCIbxwN2XYKIvGjXLRKRun4+L4rIX0VkjoisFJGf2fUpIvKC3W++iJxg108VkWki8hnwaa3megE7jTHl9ue4sybZish4EZkpInNF5EMR6WXXDxWRT+z5zxORIcD9wHH253VDM2PZjytDCoEcX9Cb7V8OHOnG8VXLlKYyYGEmAzoUkT8ij20pJfgEGrgVQGTtvDGj184bAxgz8MjFizLPnba7/+hlwzwJwWivF9aUr9z/C+SJyIO11j8JvGSMeUlEfgU8AdR+kOJw4JFGHOMtY8zfAEQkB/i1bf8O4BRjzHcist9YijFmu4j8hpAem9jpPESkO/A34HhjzFoRqbk1czlwnDGmSkROAu4FzgGuAkqMMYeKyBhgnm2nN/AAMB4oAD4SkTOBjUAfY8zhdrv6xnkGAhOBIcDnIjIU+K0TvhktIiNtm8Pt9uOAMcaY3bXa+Qi4Q0RWAp8ArxljZopIkv05nWGM2SEi5wP3AL8CXgHuN8a8LSIpOJ3RW2r9vG5sRiz7cXOOzyVowo1pJZ0YPP8YBncsZNWIPHa1K8XbcOIFEFk3f/TodfNHA8YMHLtkse/cabsGjFk61JMQPPD5X/ctauyGxphCEXkZuI79v8VlAmfb17lA7YTcFIfbRJsOpAIf2vVfAy+KyOvAW01ozwd8YYxZCxCSNNKAl0RkGGD4Yfz+eJw/GBhj8kQkz66fAMwwxuwAEJFX7LZ3A4NF5EmcMeSP6onjdWNMEFglIvnASOBYnCSJHWZZD9QkuY/rSnDGmH0iMh44DjgBeE1EbgHm4PxR+9j+sUkAtohIJ5w/CG/b/cts/LWbbnIstbmdcFUcKO7MsHnHMixh/Xdr1rx7e4+qytJOiDC6+xkcecj59e63dd9SXlt6uZy2+67D1y24FTBmY+JT33258q2MlA5VSTfdnJ54/gUHXiS76ortLFtWwY9P7sBt2U5n7NFHChh5aDKnndaxNU6x0QnXehyn1/dCE/dbgtM7XNjAdi8CZxpjForIVGAygDHmShHxAj8F5tqk0xJ3A58bY84S5wLSjOY0YowpEJEjgFOAK4HzcHqVB2zawPvaig9yzGqceGeIyCLgEmAusMQYkxm6rU24LVVvLKHcnAhcE26cKc1oN6T7uX/sNO7SV5eedcSz8xZue5NdpWvr3DZoqvlq49MMSJv4/bqyqkL5eO6MPmf3f6f9ad3eT7zjj9WVcz8d/nV1lWdTzTZLllSQkiLM+KIvC+aXU1gYZNvWKubNLW+tZAuwoCkb257O6zhf9Wt8A1xgX18EfFnHrg8Bt9Z8TRURj4hcWcd2nXB6Zkm2Lez2Q4wxAWPMHTj3DfdrZMh+4HgRGWTbqRlSSAO+s6+nhmz/Bc4dADUX+sbY9bOASSLSTZwLfr8AZopz0cpjjHkTyMb5+l2Xc+05DwEGAytwfk4X2WMNx5kSYMXBTkZERtheeY2xwHq7X3dxLqohIkkiMsoYUwRsssMfiEg7ccbFi9h/kq0mx1Kbmz3cWS4eW7WC5E7dSO7UjUI4bNGPOuHZeEjhjsoN27q2HzSs9rYLtr3BsIzJbC1e9v26dXsD9O88gZREZwKbvh2OT3ri1nHHjOx6J/3HLFmSee60nSZp/oiyMnNIMGioqoQEDzxwfwE3/7FLa53W1h5d85tzR80jwDUh768FXhCRP+Akw0tr72C/nv8OeNX+gzfA9Dravh0I2HYC/JAUHrKJRnAu3iwEJjUUqB3PvBx4S0Q8OPcc/xhn2OMlEcnGGQqo8Yw9l2XAMpyeI8aYLfar++c2hveNMe/a3u0Ltm2A/6knlA04eaEzcKUxpkxEngaesb3UKmCqvfPgYKeUCjxpx4qrcG7pu9wYUyEiU4AnRCQNJ/89jtP5ywKeFZG7cO5KORfIA6pFZCHOt4rmxLIfV24Lq+HN9i8BDnMtANVqyvdsYVnuVYy+/BW6FXZcMHQxklTFEQD7KrbzwZo/MWXk//LR2nsYnH4Mw26qm7IAABK8SURBVDJOZO6WV6gKVuDt4+SiwHf/INHTjvG9Ltqv7W/33Lx7c/G85Auz2lWffEpK2vPPF/L4X1ptfp3Xe3TNr39cRIWFiLwITDfG/MftWFqT24XxZqAJN+5UV5Sw6s3/of+Pf0dCu44UdGfs7BOg6zbmDVlK8sxVjx9+bL/f8kOHp2ky0x/MIB3KP4MrX/rVvnvvGZV33z1zRuXnV6QdPymFrIvDOknOzHA2pto2txPu58DVLsegwihYXcWqN2+l6+GnkDFy8n6f7erJuF09YcOCRRWbV98qHhKSyqr2sm7Pt4gk0DG5O5sK532/fVHFdvp2rm+4D9YUfEGGHJ06/bGTj569JZlfnT5l2QvP3djzjDOkuHOaaez4ZUM04UaAMWaq2zFEgtsJdybOOFWr1/dSrc8Yw9r376F91wH08v6i3u2OuOG9ZIAe3zFr+bTbRo7I+FHnoV0mUVa1l282/pWyKufR3w17Z3Fsv6vqbKM6WMX8ra9xxvBH2FO+EUHYtGTkoYWbB/PIufdmDD3iu+WZ503bOujIRYMTEqubO9n9Tpp2D65SB+XqGC6AN9u/COfeOBXjijYuZNnLV9K+xxDE3gDT94QrSR96NNvnOreF9hh/9n775E+7mz6pY1dOMqd7PEGGLtnxHrM2vwTAxN5TGdW97qcq5239N+0SOjGq+08xxvDBmj+xq3QNA9OP5rh+v91v276HrViWed60bYPG5Q1KSKwe0IRTertH1/yzG95MqcaJhoT7F5ybxFVbZgj2Xo+//2p6eQytVo68z6Erl2ee9+7WwePyBiUkNZh8r+7RNf+AR2uVaq5oSLgnAJ+5GoSKHobqPmv5tl8+/TyGpvRGm6z3yFUrMs97d8uQ8XkDE5KqBh4QCfTt0TVfpxJVYRMNCdeDc3N1q9RFUTEqSFW/fL7tu45BYqi7gmQY9R6xekXmee9uGXzUwgGJSVWDAH+PrvmZDe6oVBO4nnABvNn+J9n/JnGlAJAglf1X823v9QwTZxaoVtdr+OqVo0/68pFTL3n2uUgcT7Ud0ZJwj6XuRx2VAkCClA9Yib/XRg6V1q/UbICBjwV8G1r5OKqNcXMuhVBfA5sa3Eq1WcZDu3UjmRQ4kU5b+zDTtG5Rx2802arWEBUJN5DjM8Abbsehol8wgfb5hzEpcALtt/dihnHmXQ23sJVUUSpUVCRc659uB6BiRzCRjqsPZ/KsE0jc0ZMZBvaGqekSNOGqVhI1CTeQ45uHM4WdUo1WnUinVWOYPGsy7OrBDONMqdcSrz0W8O0JR2zxTkSuEJFWm6YtHkVNwrWecDsAFZuqk0hbcQSTZ0+isqAbM00jJ4Suw18b2kBEqm2dq5rllmYeq3a76+zcsS1tZ4aIrBCnftpyEXnqIGVtmnuMO4ACY0y9Qzoiki4iV4e87y0icT0bWEOi4i6FGt5sfyKwFlr/vksV35LK2TFsMUvTdjNRQoocNmDWYwGft6GNRGSfMSa1hSHW1e464ChjTIsuCEpIFV0RScYpiX6UMabBuXHDyVaJmF5Ty0xFWQ83kOOrwpnkV6kWqWxH96XjmTT3OAr3pjPTQHkjdvtLS45pe6j32V7vHBEZJ05l2DU1lRvEqaL7hYi8b3uhf5U65qkUkV+KyCzb1rO2gkKdVXEPxhhTgVMNuL+dCBwR+b3df7Gd8LymqvBycarnrhSRV0TkJBH5WkRWichEu11HEfmHjW2+iJxh148KiTfPToR+PzDErnvIHmOx3T5BRB62MeSJyLV2/Y9su4vscdq15P9JtImqhGs9h5ZQV2FSkULPJROYNO9Ydhel8YVxZvOvy2Yaf6dM+1pDCqETlG8wxozFua/8RWAKTpHGP4dsMxGnAsRhOBVq95sgR0QOBc4HjrFtVQMXyQ9VcU/EKRszoaYszMHY+l4LgZHi1Dm7FPDauC4TkZpirkNxKlWMtMuFOIUTbwJutdvcBnxmjJmIU6DxIRHpiFOr7C823qNwbvO8BVhjjBlrjPlDrbAux6nSO9YYMwZ4RZxquS8C5xtjRuPMZlj3dHExKuoSbiDHtwunZLFSYVPenl6LJnL8vGPYtq8TXxqnREqoBx8L+OpLxrWV2iRSs7wW8tk0+99FQMAYU2Sr2JaHjKPOMsbk20T4Kk5SC/UjnGKSs0VkgX0/mJCquMaYKpx/J8c3MuaaKVCPBd42xhQbY/bhVPc9zn621hizyFbOXQJ8apwxx0U4yRHgZOAWG9cMIAWntte3OPXY/ggMMMY01Gk6CXjWnkdNHbgRNoaVdpuXmnB+McHt+XDrcy9wMZDsdiAqvpR3oG+ej77ti1k/PI+NHfaRKU5tsHA9xlszdBFk/2GMID/8e2uoOq0ALxlj9qv9VfP1vanscMRonPpjB5uzpHa8oedSE7sA5xhjahdPXCYiAZyKwf8VkSuA/ObEG8+irocLEMjxrSV8/wCUOkBpRwYszOTYhT42FHTljscCvkgOY00UkUF27PZ84Ktan38KTBGRHuBU0RWRAdRTFfdgBxKnsu99wEZjTB7OUMeZItLBDgWcRdMeq/8QuFZs5cSa4QgRGQzkG2OeAN7FqeRbu+ptqI+BK0QkseYccSrgDhSRoXabrIbOL9ZEZcK17gb2uR2Eim8lnUhaNo7cJu5Wewz3/ibuPxt4CqfHuRZ4O/RDY8xSnHLiH4lIHk5y6mWM2YIzLvo5zpjsXGPMu/Uc4xW772KgI3CGbXsezjjpLJyKv88bY+Y3Ifa7gSQgT0SW2PcA5wGL7VDD4cDLxphdwNf2wthDtdp5HqdKb544VXEvNMaU4YwvvyFOZdwgjbhNL5ZE1W1htXmz/Xfj/OIp1VouD+T4/hapg4nIZJxbtuouZaHiWjT3cAEeAna5HYSKWyuBF9wOQrUdUd3DBfBm+3+Pc6uKUuF2SiDH95HbQai2I9p7uOCMdWnlVBVur2myVZEW9Qk3kOOrAC7jwFtnlGquvcANbgeh2p6oT7gAgRzfN4BWT1Xhkh3I8W1xOwjV9sREwrVuIcaqQphgNYufv5gVr934/bpts99g4dNTmHVPJpUl9c8CuOLV3zH34R/vt2+o9R8+ypwHT6zzs93LP2fRsxey9OUrqSxxpoktK9jE6rf0hg9gDjpfh3JJzCTcQI6vCLi6wQ2jyNbZr5PSbeB+61L7jWHkhU+SnHbwIsWH+C5i8M/vqPOzfZuXUVVW/7Sv22a/wWG/+gc9jjyTXUucYcpNM56j7+QrmnYC8acKuDKQ4wu6HYhqm2Im4QIEcnzvAa81uGEUqCjczt7VX9Nj7M/3W9/xkBG0S2+4+GzaoAkktOt4wHoTrGbjZ0/R78Tf1r+zeDBVFQQry/B4EijasICk1AxSMvo1+TzizJ2BHN9ct4NQbVdMJVzramC920E0ZP3Hj9PvxGvgwJn3WmTbnP/QZdixJHeqf57q3kdfzPJ/XceeVV+RMepkvvvqBfoce2lY44hBn+I84qqUa2Iu4QZyfLtxHiOscDuW+hSs+oqkDl3o2GtkWNutKNrB7mWf0XPCuQfdLm3wRA7/9YsMP/9h9qz8gvShmZTt3siqN29l7fv3UV1ZFta4YsB24Jc6lKDcFnMJFyCQ45uFM0dnVNq3KY+CVV+y4KmzWPP27RStm8uad+9scbslW1dSXrCJhU+fy4KnziJYWcbCp6fUu311ZRk78v5Lj/FT2PTF8ww+/XZS+41h1+IPWxxLDDHAxYEc31a3A1EqWqdnbFAgx/ekN9t/LE5vN6r0O+Fq+p3gXN8rXD+PLf5XGHLGnS1uN33YMRz5u/e/fz/nwRM54ur6S0Rt/fYVDplwLp6ERExlOYgg4mlrPdyHAzm+NvUXRkWvmOzhhvgNsMrtIJpi6+zXmf/Ez6ko3MHiv2Wxdvq9gHPnQc1rgKUvX8nqt26jcN0c5j/xc/as8TfpOBVFO9i3eSldRjhlrHpOmMLSf/yK7fPepuuok8N3QtHtS5wKBUpFhaifS6Eh3mz/aJzy6mEv6qdi2grgaDvmr1RUiPUeLoEc3yKcYYXaJVNU27UDOE2TrYo2MZ9wAQI5vg+IsYciVKspA34eyPFpeRcVdeIi4QLYSaTvcjsO5SqDc/tX0wa8lYqQuEm4AIEc35/Q5+TbshsDOb433Q5CqfrEVcK1rsUpPa3alpsDOb7H3A5CqYOJu4RrnybKAl52OxYVMTcEcny1ixQqFXXiLuECBHJ81cBUdHgh3hng2kCO73G3A1GqMWL+PtyGeLP99wN/dDsOFXYGuCqQ43vW7UCUaqy47OGGCuT4bkGfNoo3VcBvNNmqWBP3Pdwa3mz/NcDjQILbsagWKQDODeT4PnU7EKWaqs0kXABvtv/HwL+BDLdjUc2yEjg9kONb6XYgSjVH3A8phArk+D4GJgCL3I5FNdkngE+TrYplbSrhAthHPjOB+uc1VNHmGeDUQI6vwO1AlGqJNjWkUJs3238rcDdt8A9PjCgErgnk+HLdDkSpcGjTCRfAm+0/HngRGORyKGp/XwFZgRzfOrcDUSpc2nzPLpDj+wIYAzzndiwKcG75ygYma7JV8abN93BDebP9pwB/B/q4HUsbtRJntq/ZbgeiVGto8z3cULb21eGAjhlGVjlwL3CkJlsVz7SHWw9vtv8E4FFgrNuxxLn3gesDOb41bgeiVGvThHsQ3my/B7gUyAEOcTmceLMG+F0gxzfd7UCUihRNuI3gzfanArcCNwApLocT64qAB3DKl5e7HYxSkaQJtwm82f4BwO048+0muxxOrCkCngAe1eKOqq3ShNsM3mx/b5ze7hVAJ5fDiXYFwFPAXwI5vl1uB6OUmzThtoA3258OXAVcD/R0OZxosxFndrbnAjm+fW4Ho1Q00IQbBt5sfwpwEc4FtmNcDsdNlcB7wPPAh7bckVLK0oQbZt5s/1DgYrsMcDmcSFmO88DIy4Ec33a3g1EqWmnCbSXebL8Ak3Bqq50BpLsaUPitwenN/ieQ4/va7WCUigWacCPAm+1PAHzAT+wyHhBXg2q6auBrYDrwXiDHt9zleJSKOZpwXeDN9ncHTgZOwRnzHexuRHUqBxYAs4BvgI/0di6lWkYTbhTwZvu7AhNxer5H4MxeNpTIzXVRBuQD84CAXRYGcnwVETq+Um2CJtwo5c32t8e56NYX6Fdr6Ytz/29KyFL7QYxqnIcNioB9Ia83AmtxEmzNf7cGcnz6i6BUK9OEGyfsRboUoB1QFsjxlbkcklKqFk24SikVITofrlJKRUirJVwRuU1ElohInogsEBFvM9oYKCIXhiGWBh8tFZHjbLwLRKR9S4/ZyLimishTkTiWUsp9rZJwRSQT+BkwzhgzBjgJ52JNUw0EmpRwRSSxGccB59Hc+4wxY40xpa14HKVUG9VaPdxewE5jTDmAMWanMWYzgIiMF5GZIjJXRD4UkV52/VAR+UREForIPBEZAtwPHGd7nTeISIqIvCAii0RkvoicYPedKiLTROQz4NP6ghKRySIyQ0T+IyLLReQVcfwGOA+4O2TdQyKy2B7r/JD9vxSRacBS+36miLwrIvkicr+IXCQis+x+Q+x+p4tIwMb8iYjoRDdKtUXGmLAvQCrOTfMrgaeBSXZ9Es5N9N3t+/OBf9jXAeAs+zoF6ABMBqaHtHtjyPYjgQ1226nAJiCjnnj22f9OBvbi3FblAb4FjrWfvQhMsa/PAT4GEnBmAduA80dkMlAMDAppb4/9rB3wHfBn+9n1wOP2dRd+uED5G+AR+3oq8FRr/D/QRRddom9pla/Fxph9IjIeOA44AXhNRG4B5uAUafxYRLAJbYuIdAL6GGPetvuXAdhtQh0LPGm3WS4i64Hh9rOPjTGNeRJqljFmk21/Ac6wxVd1HOdVY0w1sE1EZgITgEK7/9qQbWcbY7bY9tYAH9n1i+y5g5PgX7O9+WSc+1+VUm1Mq41D2mQ1A5ghIouAS4C5wBJjTGbotjbhtlRxI7cLLetSTdN/BrWPE9peMOR9MKTtJ4FHjTHTRGQycGcTj6mUigOtddFshIgMC1k1FlgPrAC624tqiEiSiIwyxhQBm0TkTLu+nYh0wHkyKjQZf4lzcQsRGQ70t22G25fA+SKSICLdgeNx5hRorjSc4QZw/vAopdqg1rpolgq8JCJLRSQPOAy40xhTAUwBHhCRhTjjvEfbfbKA6+z23+BUyc0Dqu2FtBtwxoM9tsf8GjDV2AtzYfa2PfZC4DPgZmPM1ha0dyfwhojMBXa2PDylVCzSJ82UUipC9EkzpZSKEE24SikVIZpwlVIqQjThKqVUhGjCVUqpCNGEq5RSEaIJVymlIkQTrlJKRYgmXKWUihBNuEopFSGacJVSKkI04SqlVIRowlVKqQjRhKuUUhGiCVcppSJEE65SSkWIJlyllIqQ/wdne+WjTUvIlgAAAABJRU5ErkJggg==\n",
                  "text/plain": "<Figure size 432x288 with 1 Axes>"
                },
                "metadata": {}
              },
              {
                "output_type": "display_data",
                "data": {
                  "image/png": "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\n",
                  "text/plain": "<Figure size 432x288 with 1 Axes>"
                },
                "metadata": {}
              }
            ],
            "_view_module": "@jupyter-widgets/output",
            "_model_module_version": "1.0.0",
            "_view_count": null,
            "_view_module_version": "1.0.0",
            "layout": "IPY_MODEL_8690ceea3b124d7a89f1c35e59482d9f",
            "_model_module": "@jupyter-widgets/output"
          }
        },
        "8690ceea3b124d7a89f1c35e59482d9f": {
          "model_module": "@jupyter-widgets/base",
          "model_name": "LayoutModel",
          "model_module_version": "1.2.0",
          "state": {
            "_view_name": "LayoutView",
            "grid_template_rows": null,
            "right": null,
            "justify_content": null,
            "_view_module": "@jupyter-widgets/base",
            "overflow": null,
            "_model_module_version": "1.2.0",
            "_view_count": null,
            "flex_flow": null,
            "width": null,
            "min_width": null,
            "border": null,
            "align_items": null,
            "bottom": null,
            "_model_module": "@jupyter-widgets/base",
            "top": null,
            "grid_column": null,
            "overflow_y": null,
            "overflow_x": null,
            "grid_auto_flow": null,
            "grid_area": null,
            "grid_template_columns": null,
            "flex": null,
            "_model_name": "LayoutModel",
            "justify_items": null,
            "grid_row": null,
            "max_height": null,
            "align_content": null,
            "visibility": null,
            "align_self": null,
            "height": null,
            "min_height": null,
            "padding": null,
            "grid_auto_rows": null,
            "grid_gap": null,
            "max_width": null,
            "order": null,
            "_view_module_version": "1.2.0",
            "grid_template_areas": null,
            "object_position": null,
            "object_fit": null,
            "grid_auto_columns": null,
            "margin": null,
            "display": null,
            "left": null
          }
        },
        "e0866d73812c4bf3bf2829d27198dfc2": {
          "model_module": "@jupyter-widgets/controls",
          "model_name": "VBoxModel",
          "model_module_version": "1.5.0",
          "state": {
            "_view_name": "VBoxView",
            "_dom_classes": [],
            "_model_name": "VBoxModel",
            "_view_module": "@jupyter-widgets/controls",
            "_model_module_version": "1.5.0",
            "_view_count": null,
            "_view_module_version": "1.5.0",
            "box_style": "",
            "layout": "IPY_MODEL_55df11a0f2624223bf513232edbdca30",
            "_model_module": "@jupyter-widgets/controls",
            "children": [
              "IPY_MODEL_8ae681fc2cb54297afe2c35bbdd80dfb",
              "IPY_MODEL_8067d8f8900a46c383e1c5a613d3fbb0",
              "IPY_MODEL_afb56434d70b4502909d5df2d7520f36"
            ]
          }
        },
        "55df11a0f2624223bf513232edbdca30": {
          "model_module": "@jupyter-widgets/base",
          "model_name": "LayoutModel",
          "model_module_version": "1.2.0",
          "state": {
            "_view_name": "LayoutView",
            "grid_template_rows": null,
            "right": null,
            "justify_content": null,
            "_view_module": "@jupyter-widgets/base",
            "overflow": null,
            "_model_module_version": "1.2.0",
            "_view_count": null,
            "flex_flow": null,
            "width": null,
            "min_width": null,
            "border": null,
            "align_items": null,
            "bottom": null,
            "_model_module": "@jupyter-widgets/base",
            "top": null,
            "grid_column": null,
            "overflow_y": null,
            "overflow_x": null,
            "grid_auto_flow": null,
            "grid_area": null,
            "grid_template_columns": null,
            "flex": null,
            "_model_name": "LayoutModel",
            "justify_items": null,
            "grid_row": null,
            "max_height": null,
            "align_content": null,
            "visibility": null,
            "align_self": null,
            "height": null,
            "min_height": null,
            "padding": null,
            "grid_auto_rows": null,
            "grid_gap": null,
            "max_width": null,
            "order": null,
            "_view_module_version": "1.2.0",
            "grid_template_areas": null,
            "object_position": null,
            "object_fit": null,
            "grid_auto_columns": null,
            "margin": null,
            "display": null,
            "left": null
          }
        },
        "8ae681fc2cb54297afe2c35bbdd80dfb": {
          "model_module": "@jupyter-widgets/controls",
          "model_name": "DropdownModel",
          "model_module_version": "1.5.0",
          "state": {
            "_options_labels": [
              "2007",
              "2008",
              "2009",
              "2010",
              "2011",
              "2012",
              "2013",
              "2014",
              "2015",
              "2016",
              "2017",
              "2018",
              "2019",
              "2020",
              "2021"
            ],
            "_view_name": "DropdownView",
            "style": "IPY_MODEL_55fdc84afccc403fbfe883a6b7cc12d9",
            "_dom_classes": [],
            "description": "Año Inicio",
            "_model_name": "DropdownModel",
            "index": 0,
            "_view_module": "@jupyter-widgets/controls",
            "_model_module_version": "1.5.0",
            "_view_count": null,
            "disabled": false,
            "_view_module_version": "1.5.0",
            "description_tooltip": null,
            "_model_module": "@jupyter-widgets/controls",
            "layout": "IPY_MODEL_9ff62a45031643feb50680d3a42b177e"
          }
        },
        "8067d8f8900a46c383e1c5a613d3fbb0": {
          "model_module": "@jupyter-widgets/controls",
          "model_name": "DropdownModel",
          "model_module_version": "1.5.0",
          "state": {
            "_options_labels": [
              "2007",
              "2008",
              "2009",
              "2010",
              "2011",
              "2012",
              "2013",
              "2014",
              "2015",
              "2016",
              "2017",
              "2018",
              "2019",
              "2020",
              "2021"
            ],
            "_view_name": "DropdownView",
            "style": "IPY_MODEL_c2ad0fdd18cd446b860822f1c3840ffb",
            "_dom_classes": [],
            "description": "Año Fin",
            "_model_name": "DropdownModel",
            "index": 14,
            "_view_module": "@jupyter-widgets/controls",
            "_model_module_version": "1.5.0",
            "_view_count": null,
            "disabled": false,
            "_view_module_version": "1.5.0",
            "description_tooltip": null,
            "_model_module": "@jupyter-widgets/controls",
            "layout": "IPY_MODEL_73587436af774c8cade5de5f2c602852"
          }
        },
        "afb56434d70b4502909d5df2d7520f36": {
          "model_module": "@jupyter-widgets/controls",
          "model_name": "TabModel",
          "model_module_version": "1.5.0",
          "state": {
            "_view_name": "TabView",
            "_dom_classes": [],
            "_titles": {
              "1": "Gráficos"
            },
            "_model_name": "TabModel",
            "_view_module": "@jupyter-widgets/controls",
            "selected_index": 0,
            "_model_module_version": "1.5.0",
            "_view_count": null,
            "_view_module_version": "1.5.0",
            "box_style": "",
            "layout": "IPY_MODEL_4dc19616714b4f34a6e1a2239e1df1c0",
            "_model_module": "@jupyter-widgets/controls",
            "children": [
              "IPY_MODEL_e3ba268492d44978b0fe1df3cc2ba64b"
            ]
          }
        },
        "55fdc84afccc403fbfe883a6b7cc12d9": {
          "model_module": "@jupyter-widgets/controls",
          "model_name": "DescriptionStyleModel",
          "model_module_version": "1.5.0",
          "state": {
            "_view_name": "StyleView",
            "_model_name": "DescriptionStyleModel",
            "description_width": "",
            "_view_module": "@jupyter-widgets/base",
            "_model_module_version": "1.5.0",
            "_view_count": null,
            "_view_module_version": "1.2.0",
            "_model_module": "@jupyter-widgets/controls"
          }
        },
        "9ff62a45031643feb50680d3a42b177e": {
          "model_module": "@jupyter-widgets/base",
          "model_name": "LayoutModel",
          "model_module_version": "1.2.0",
          "state": {
            "_view_name": "LayoutView",
            "grid_template_rows": null,
            "right": null,
            "justify_content": null,
            "_view_module": "@jupyter-widgets/base",
            "overflow": null,
            "_model_module_version": "1.2.0",
            "_view_count": null,
            "flex_flow": null,
            "width": null,
            "min_width": null,
            "border": null,
            "align_items": null,
            "bottom": null,
            "_model_module": "@jupyter-widgets/base",
            "top": null,
            "grid_column": null,
            "overflow_y": null,
            "overflow_x": null,
            "grid_auto_flow": null,
            "grid_area": null,
            "grid_template_columns": null,
            "flex": null,
            "_model_name": "LayoutModel",
            "justify_items": null,
            "grid_row": null,
            "max_height": null,
            "align_content": null,
            "visibility": null,
            "align_self": null,
            "height": null,
            "min_height": null,
            "padding": null,
            "grid_auto_rows": null,
            "grid_gap": null,
            "max_width": null,
            "order": null,
            "_view_module_version": "1.2.0",
            "grid_template_areas": null,
            "object_position": null,
            "object_fit": null,
            "grid_auto_columns": null,
            "margin": null,
            "display": null,
            "left": null
          }
        },
        "c2ad0fdd18cd446b860822f1c3840ffb": {
          "model_module": "@jupyter-widgets/controls",
          "model_name": "DescriptionStyleModel",
          "model_module_version": "1.5.0",
          "state": {
            "_view_name": "StyleView",
            "_model_name": "DescriptionStyleModel",
            "description_width": "",
            "_view_module": "@jupyter-widgets/base",
            "_model_module_version": "1.5.0",
            "_view_count": null,
            "_view_module_version": "1.2.0",
            "_model_module": "@jupyter-widgets/controls"
          }
        },
        "73587436af774c8cade5de5f2c602852": {
          "model_module": "@jupyter-widgets/base",
          "model_name": "LayoutModel",
          "model_module_version": "1.2.0",
          "state": {
            "_view_name": "LayoutView",
            "grid_template_rows": null,
            "right": null,
            "justify_content": null,
            "_view_module": "@jupyter-widgets/base",
            "overflow": null,
            "_model_module_version": "1.2.0",
            "_view_count": null,
            "flex_flow": null,
            "width": null,
            "min_width": null,
            "border": null,
            "align_items": null,
            "bottom": null,
            "_model_module": "@jupyter-widgets/base",
            "top": null,
            "grid_column": null,
            "overflow_y": null,
            "overflow_x": null,
            "grid_auto_flow": null,
            "grid_area": null,
            "grid_template_columns": null,
            "flex": null,
            "_model_name": "LayoutModel",
            "justify_items": null,
            "grid_row": null,
            "max_height": null,
            "align_content": null,
            "visibility": null,
            "align_self": null,
            "height": null,
            "min_height": null,
            "padding": null,
            "grid_auto_rows": null,
            "grid_gap": null,
            "max_width": null,
            "order": null,
            "_view_module_version": "1.2.0",
            "grid_template_areas": null,
            "object_position": null,
            "object_fit": null,
            "grid_auto_columns": null,
            "margin": null,
            "display": null,
            "left": null
          }
        },
        "4dc19616714b4f34a6e1a2239e1df1c0": {
          "model_module": "@jupyter-widgets/base",
          "model_name": "LayoutModel",
          "model_module_version": "1.2.0",
          "state": {
            "_view_name": "LayoutView",
            "grid_template_rows": null,
            "right": null,
            "justify_content": null,
            "_view_module": "@jupyter-widgets/base",
            "overflow": null,
            "_model_module_version": "1.2.0",
            "_view_count": null,
            "flex_flow": null,
            "width": null,
            "min_width": null,
            "border": null,
            "align_items": null,
            "bottom": null,
            "_model_module": "@jupyter-widgets/base",
            "top": null,
            "grid_column": null,
            "overflow_y": null,
            "overflow_x": null,
            "grid_auto_flow": null,
            "grid_area": null,
            "grid_template_columns": null,
            "flex": null,
            "_model_name": "LayoutModel",
            "justify_items": null,
            "grid_row": null,
            "max_height": null,
            "align_content": null,
            "visibility": null,
            "align_self": null,
            "height": null,
            "min_height": null,
            "padding": null,
            "grid_auto_rows": null,
            "grid_gap": null,
            "max_width": null,
            "order": null,
            "_view_module_version": "1.2.0",
            "grid_template_areas": null,
            "object_position": null,
            "object_fit": null,
            "grid_auto_columns": null,
            "margin": null,
            "display": null,
            "left": null
          }
        },
        "e3ba268492d44978b0fe1df3cc2ba64b": {
          "model_module": "@jupyter-widgets/output",
          "model_name": "OutputModel",
          "model_module_version": "1.0.0",
          "state": {
            "_view_name": "OutputView",
            "msg_id": "",
            "_dom_classes": [],
            "_model_name": "OutputModel",
            "outputs": [
              {
                "output_type": "display_data",
                "data": {
                  "image/png": "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\n",
                  "text/plain": "<Figure size 1296x576 with 1 Axes>"
                },
                "metadata": {
                  "needs_background": "light"
                }
              }
            ],
            "_view_module": "@jupyter-widgets/output",
            "_model_module_version": "1.0.0",
            "_view_count": null,
            "_view_module_version": "1.0.0",
            "layout": "IPY_MODEL_982fd90d0f8d48ef921de83934ae5eeb",
            "_model_module": "@jupyter-widgets/output"
          }
        },
        "982fd90d0f8d48ef921de83934ae5eeb": {
          "model_module": "@jupyter-widgets/base",
          "model_name": "LayoutModel",
          "model_module_version": "1.2.0",
          "state": {
            "_view_name": "LayoutView",
            "grid_template_rows": null,
            "right": null,
            "justify_content": null,
            "_view_module": "@jupyter-widgets/base",
            "overflow": null,
            "_model_module_version": "1.2.0",
            "_view_count": null,
            "flex_flow": null,
            "width": null,
            "min_width": null,
            "border": null,
            "align_items": null,
            "bottom": null,
            "_model_module": "@jupyter-widgets/base",
            "top": null,
            "grid_column": null,
            "overflow_y": null,
            "overflow_x": null,
            "grid_auto_flow": null,
            "grid_area": null,
            "grid_template_columns": null,
            "flex": null,
            "_model_name": "LayoutModel",
            "justify_items": null,
            "grid_row": null,
            "max_height": null,
            "align_content": null,
            "visibility": null,
            "align_self": null,
            "height": null,
            "min_height": null,
            "padding": null,
            "grid_auto_rows": null,
            "grid_gap": null,
            "max_width": null,
            "order": null,
            "_view_module_version": "1.2.0",
            "grid_template_areas": null,
            "object_position": null,
            "object_fit": null,
            "grid_auto_columns": null,
            "margin": null,
            "display": null,
            "left": null
          }
        }
      }
    }
  },
  "cells": [
    {
      "cell_type": "markdown",
      "metadata": {
        "id": "tjtUf9uGY-eV"
      },
      "source": [
        "# Librerias"
      ]
    },
    {
      "cell_type": "code",
      "metadata": {
        "id": "gok26XxdY4VM"
      },
      "source": [
        "#importar las librerias necesarias\n",
        "import matplotlib.pyplot as plt\n",
        "import numpy as np\n",
        "import pandas as pd\n",
        "import io\n",
        "from google.colab import files\n",
        "import plotly.graph_objects as go\n",
        "from datetime import datetime \n",
        "import pandas as pd\n",
        "from scipy.stats import norm\n",
        "from ipywidgets import interact  \n",
        "from IPython.display import display\n",
        "import ipywidgets as widgets"
      ],
      "execution_count": 1,
      "outputs": []
    },
    {
      "cell_type": "markdown",
      "metadata": {
        "id": "BCE7NUS4ZG72"
      },
      "source": [
        "# Carga de los datos"
      ]
    },
    {
      "cell_type": "code",
      "metadata": {
        "id": "2zVgUPkkY-QF"
      },
      "source": [
        "# se cargan los datasts de los archivos especificados\n",
        "poblaciones = pd.read_csv('/content/1.Poblaciones.csv', sep = ';', encoding='latin1')\n",
        "personasSect = pd.read_csv('/content/4. Sectorización del empleo.csv', sep = ';', encoding='latin1')\n",
        "dataHist = pd.read_csv('/content/1.Poblaciones.csv', sep = ';', encoding='latin1')"
      ],
      "execution_count": 2,
      "outputs": []
    },
    {
      "cell_type": "markdown",
      "metadata": {
        "id": "e53lpM8uZcFU"
      },
      "source": [
        "# Empleados y desempleados"
      ]
    },
    {
      "cell_type": "markdown",
      "metadata": {
        "id": "mrU9lVhGZoBM"
      },
      "source": [
        "## Preprocesamiento"
      ]
    },
    {
      "cell_type": "code",
      "metadata": {
        "id": "OruA02MyZgH8"
      },
      "source": [
        "# Se crea la estructura de un nuevo dataset para realizar las graficas \n",
        "# el numero dataset tendra las columnas Fecha, Empleado, Desempleado\n",
        "\"\"\" \n",
        "Fecha   Empleado   Desempleado\n",
        "dic-07  6214125    561234        --> las filas representan el numero de empleados y desempleados\n",
        "                                      en una fecha en especifico.\n",
        "\n",
        "\"\"\"\n",
        "\n",
        "df = pd.DataFrame()\n",
        "df['Fecha'] = None\n",
        "df = df.assign(Empleado=None)\n",
        "df = df.assign(Desempleado=None)\n",
        "\n",
        "\n",
        "empleo='Empleo'\n",
        "desempleo='Desempleo'\n",
        "\n",
        "empleados=[]\n",
        "desempleado=[]\n",
        "fechas=[]\n",
        "\n",
        "auxfecha='07-dic'\n",
        "sumaEmpleo=0\n",
        "sumaDesempleado=0\n",
        "\n",
        "fechascomparacion=poblaciones['Unnamed: 1']\n",
        "fechasLista = []\n",
        "\n",
        "#Se liminan las fechas repetidas\n",
        "for element in fechascomparacion:\n",
        "    if element not in fechasLista:\n",
        "        fechasLista.append(element)\n",
        "\n",
        "del fechasLista[0]       "
      ],
      "execution_count": 4,
      "outputs": []
    },
    {
      "cell_type": "code",
      "metadata": {
        "id": "OOB3TSdIZ9bE"
      },
      "source": [
        "#Se elimina la primera fila ya que contiene un valor nulo\n",
        "del fechasLista[0]"
      ],
      "execution_count": 5,
      "outputs": []
    },
    {
      "cell_type": "code",
      "metadata": {
        "id": "dLxcn260Z0Du"
      },
      "source": [
        "#funcion para ordenar las fechas segun el orden de los meses del año\n",
        "def ordenar_fechas(fechasList):\n",
        "  lista=['ene','feb','mar','abr','may','jun','jul','ago','sep','oct','nov','dic']\n",
        "  nuevasFechas=[]\n",
        "  for i in lista:\n",
        "    for j in fechasList:\n",
        "      if i==j[0:3]:\n",
        "        nuevasFechas.append(j)\n",
        "\n",
        "  return nuevasFechas      \n",
        "\n",
        "fechasList = ordenar_fechas(fechasLista)\n"
      ],
      "execution_count": 8,
      "outputs": []
    },
    {
      "cell_type": "code",
      "metadata": {
        "id": "T5PUDGpAahpm"
      },
      "source": [
        "import re\n",
        "# funcion para eliminar los puntos de un string por ejemplo 6.213.214 =6213214 \n",
        "# una vez eliminados los puntos se puede convertir el string en un valor floar\n",
        "# para realizar los calculos pertinentes.\n",
        "def eliminarPuntos(numero):\n",
        "  out = re.sub(r'[^\\w\\s]','',numero)\n",
        "  return out"
      ],
      "execution_count": 9,
      "outputs": []
    },
    {
      "cell_type": "code",
      "metadata": {
        "id": "BoADci17alu_"
      },
      "source": [
        "''' \n",
        "Se crean dos arreglos con el numero de empleados y desmpleados \n",
        "segun las fechas ordenadas\n",
        "\n",
        "'''\n",
        "for j in fechasList:\n",
        "  sumaEmpleo=0\n",
        "  sumaDesempleado=0\n",
        "  for i in poblaciones.index:\n",
        "    if str(poblaciones['Unnamed: 1'][i]) == j:\n",
        "\n",
        "        if str(poblaciones['Unnamed: 2'][i]) == empleo:\n",
        "\n",
        "          sumaEmpleo=sumaEmpleo+float(eliminarPuntos(poblaciones['Unnamed: 3'][i]))\n",
        "        if str(poblaciones['Unnamed: 2'][i]) == desempleo:\n",
        "\n",
        "          sumaDesempleado=sumaDesempleado+float(eliminarPuntos(poblaciones['Unnamed: 3'][i]))\n",
        "\n",
        "  empleados.append(sumaEmpleo)\n",
        "  desempleado.append(sumaDesempleado)"
      ],
      "execution_count": 10,
      "outputs": []
    },
    {
      "cell_type": "code",
      "metadata": {
        "colab": {
          "base_uri": "https://localhost:8080/"
        },
        "id": "5M6XmjK3anms",
        "outputId": "367402cd-b67d-490e-9546-e1b81473e404"
      },
      "source": [
        "# Se asignan los valores fecha, empleados y desempleados al nuevo dataset\n",
        "df['Fecha'] = fechasList\n",
        "df['Empleado'] = empleados\n",
        "df['Desempleado'] = desempleado\n",
        "\n",
        "import statistics\n",
        "\n",
        "list =  [1, 2, 3, 4, 5, 6]\n",
        "mean = statistics.mean(df['Desempleado'])\n",
        "print(mean)"
      ],
      "execution_count": 34,
      "outputs": [
        {
          "output_type": "stream",
          "name": "stdout",
          "text": [
            "369816.68\n"
          ]
        }
      ]
    },
    {
      "cell_type": "code",
      "metadata": {
        "id": "vEqsO7d5ar29"
      },
      "source": [
        "'''\n",
        "Esta fucion devuelve las posiciones en donde se encuentra la fila de la fechaInicio\n",
        "y fechaFin ingresdas con el objetivo de indetificar el rango de fechas que se va a \n",
        "graficar\n",
        "\n",
        "'''\n",
        "\n",
        "\n",
        "def devolver_posiciones(fechaInicio, fechaFin, data):\n",
        "  inicio=0\n",
        "  fin=0\n",
        "  aux=0\n",
        "  for i in data.index:\n",
        "    if data['Fecha'][i]==fechaInicio:\n",
        "      inicio=i\n",
        "      aux=i\n",
        "\n",
        "    if data['Fecha'][i]==fechaFin:\n",
        "      fin=i+1\n",
        "\n",
        "  if fin < inicio:\n",
        "    inicio=fin-1\n",
        "    fin=aux+1\n",
        "    \n",
        "  return inicio, fin"
      ],
      "execution_count": 12,
      "outputs": []
    },
    {
      "cell_type": "code",
      "metadata": {
        "id": "OnaRory2azq4"
      },
      "source": [
        "'''\n",
        "Este metodo filtra las fechas segun la fechainicio y fechafin en la data\n",
        "'''\n",
        "def filtrar_fechas(fechaInicio, fechaFin, data):\n",
        "  inicio, fin =devolver_posiciones(fechaInicio, fechaFin, data)\n",
        "\n",
        "  # retorna el dataset con las filas que se encuentren dentro del rango establecido por las pocisiones\n",
        "  return data.iloc[inicio:fin]"
      ],
      "execution_count": 13,
      "outputs": []
    },
    {
      "cell_type": "markdown",
      "metadata": {
        "id": "U3H0Q5GrbkbG"
      },
      "source": [
        "## Reporte gráficas "
      ]
    },
    {
      "cell_type": "code",
      "metadata": {
        "colab": {
          "base_uri": "https://localhost:8080/",
          "height": 1000,
          "referenced_widgets": [
            "8ecdf38f56014e82bdba96b2a6d582c9",
            "b7ddf9ccbc0b40b3aa5fe1855b0b49b7",
            "48c1684fd20e47ef8b22cbb7a56b0532",
            "6a93b9ca3de04c9f83706fc1dfe9af80",
            "a1f0bf48fd0f4ddea5983935c8726076",
            "8dc73418d5ee4ab999427373b0877d66",
            "a6a4f4ad98034b7da24e8432fbee99b0",
            "1b757c06c0624df2a5b4d2b3dab01beb",
            "11f725d7580745e7a90290e59f811954",
            "f16dfb9ab80f47119cf00b5350d35a3c",
            "bba790140ef94bcfb268e654eadb53c0",
            "83787ebbd09c41059f6f74c4d365d337",
            "886b93914d714c83b0443051b5090e79",
            "323ad9d921e44a36956bc6d1d534704f"
          ]
        },
        "id": "MNi-Cldja3QW",
        "outputId": "f10a8dd9-8f5c-4157-d763-6884ee1e46cf"
      },
      "source": [
        "output = widgets.Output()\n",
        "outout_plot = widgets.Output()\n",
        "ALL = 'ALL'\n",
        "\n",
        "#creo desplegable\n",
        "\n",
        "dropdown_mesInicio = widgets.Dropdown(options = fechasList, description = 'Fecha Inicio')\n",
        "dropdown_mesFinal = widgets.Dropdown(options = fechasList, description = 'Fecha Fin')\n",
        "\n",
        "#funcion filtrar df & plot\n",
        "\n",
        "def filtro (Fecha_Inicio, Fecha_Fin):\n",
        "    output.clear_output()\n",
        "    outout_plot.clear_output()\n",
        "    \n",
        "    d=filtrar_fechas('ene-21','dic-20',df)\n",
        "\n",
        "    if (Fecha_Inicio == ALL) & (Fecha_Fin == ALL):\n",
        "        filtro = df\n",
        "    else:\n",
        "        filtro = filtrar_fechas(Fecha_Inicio,Fecha_Fin,df)\n",
        "        \n",
        "    with output:\n",
        "        display(filtro)\n",
        "        \n",
        "    with outout_plot:\n",
        "        plt.figure (figsize= (10,12))\n",
        "        plt.subplot(211)      \n",
        "        plt.title('Empleados del pais')\n",
        "\n",
        "        #plt.plot(d.Fecha, d.Empleado, 'b.-')\n",
        "        plt.plot(filtro.Fecha, filtro.Empleado, 'b.-')\n",
        "\n",
        "        plt.xticks(filtro.Fecha[::3].tolist())\n",
        "\n",
        "        plt.xlabel('Fecha')\n",
        "        plt.ylabel('Numero empleados')\n",
        "        plt.legend()\n",
        "        \n",
        "        plt.subplot(212)\n",
        "        plt.title('Desempleados del pais')\n",
        "\n",
        "        plt.plot(filtro.Fecha, filtro.Desempleado, 'r.-')\n",
        "        #plt.plot(d.Fecha, d.Desempleado, 'r.-')\n",
        "\n",
        "        plt.xticks(filtro.Fecha[::3].tolist())\n",
        "\n",
        "        plt.xlabel('Fecha')\n",
        "        plt.ylabel('Numero desempleados')\n",
        "        plt.legend()\n",
        "        plt.show()\n",
        "        \n",
        "def dropdown_FechaInicio_eventhandler (change):\n",
        "    filtro(change.new, dropdown_mesInicio.value)\n",
        "    \n",
        "def dropdown_FechaFin_eventhander(change):\n",
        "    filtro(dropdown_mesFinal.value, change.new)\n",
        "    \n",
        "dropdown_mesFinal.observe(dropdown_FechaInicio_eventhandler, names ='value')\n",
        "dropdown_mesInicio.observe (dropdown_FechaFin_eventhander, names = 'value')\n",
        "\n",
        "# widgets layout\n",
        "tab  = widgets.Tab([output, outout_plot])\n",
        "tab.set_title(0,'Datos')\n",
        "tab.set_title(1,'Gráficos')\n",
        "dashboard = widgets.VBox([dropdown_mesInicio,dropdown_mesFinal, tab])\n",
        "display(dashboard);"
      ],
      "execution_count": 31,
      "outputs": [
        {
          "output_type": "display_data",
          "data": {
            "application/vnd.jupyter.widget-view+json": {
              "model_id": "8ecdf38f56014e82bdba96b2a6d582c9",
              "version_minor": 0,
              "version_major": 2
            },
            "text/plain": [
              "VBox(children=(Dropdown(description='Fecha Inicio', options=('ene-21', 'feb-21', 'mar-14', 'mar-15', 'mar-16',…"
            ]
          },
          "metadata": {}
        }
      ]
    },
    {
      "cell_type": "markdown",
      "metadata": {
        "id": "t2wOD2QycvOf"
      },
      "source": [
        "# Sectorización de empleo"
      ]
    },
    {
      "cell_type": "markdown",
      "metadata": {
        "id": "bkY75-IYdBCe"
      },
      "source": [
        "## Preprocesamiento"
      ]
    },
    {
      "cell_type": "code",
      "metadata": {
        "id": "yZ-ou-jZc4pO"
      },
      "source": [
        "#Se eliminan las filas con datos nulos y se elimna la columna 'Caracteristica'\n",
        "personasSect=personasSect.dropna(how='all')\n",
        "personasSect=personasSect.drop(['Característica'], axis=1)"
      ],
      "execution_count": 16,
      "outputs": []
    },
    {
      "cell_type": "code",
      "metadata": {
        "id": "asE1NNScdLH_"
      },
      "source": [
        "# Se divide el dataset en subgrupos correespondientes a la sectrorizacion \n",
        "# Nacional, Urbano y Rural\n",
        "nacional=personasSect.iloc[0:4]\n",
        "urbano=personasSect.iloc[4:8]\n",
        "rural=personasSect.iloc[8:12]"
      ],
      "execution_count": 17,
      "outputs": []
    },
    {
      "cell_type": "code",
      "metadata": {
        "id": "uWS_ez0DdQPL"
      },
      "source": [
        "'''\n",
        "Esta funcion retorna los sectores y los valores segun la fecha.\n",
        "Alunos sectores no tienen valores por lo que toman el valor de 0, los que poseen valores \n",
        "como 45,89% se reemplaza la (',' - '.') y se le elimina el '%' para poder convertirlo a un valor \n",
        "de tipo float y realizar las graficas.\n",
        "\n",
        " '''\n",
        "def filtrar_sectores(data,fecha):\n",
        "\n",
        "  df = pd.DataFrame()\n",
        "  df['Sector'] = None\n",
        "  df['Porcentajes'] = None\n",
        "\n",
        "  df['Sector']=data['Sector']\n",
        "  valores=data[fecha]\n",
        "  porcentajes=[]\n",
        "  for x in valores:\n",
        "    if x==0:\n",
        "      porcentajes.append(0)\n",
        "    elif(x=='-'):\n",
        "      porcentajes.append(0)\n",
        "    else:\n",
        "      x=x.replace(\",\", \".\")\n",
        "      v=float(x.strip('%'))\n",
        "      porcentajes.append(v)\n",
        "  df['Porcentajes']=porcentajes\n",
        "  return df"
      ],
      "execution_count": 18,
      "outputs": []
    },
    {
      "cell_type": "markdown",
      "metadata": {
        "id": "qpLGYKKcdwj7"
      },
      "source": [
        "## Reporte gráficas"
      ]
    },
    {
      "cell_type": "code",
      "metadata": {
        "colab": {
          "base_uri": "https://localhost:8080/",
          "height": 904,
          "referenced_widgets": [
            "bd90459259d746228a2e33b5d2bf894a",
            "f76b02c341b7411082092c30c91b693f",
            "3abc38c58525411ca13d1d2e0c747f62",
            "6441e115e52b49298854d359cff2e500",
            "acff5c2235f24529810c58912999ae48",
            "b158d503359a41a7b1025737869ce146",
            "c8a35236ba7b4e09aebc7a6b0ebdc95d",
            "1bafd3342c174321b9cf09aefb1ece1c",
            "8690ceea3b124d7a89f1c35e59482d9f"
          ]
        },
        "id": "-opoFTc6dU1H",
        "outputId": "a43e8b57-774c-4938-b260-d691376e5c3c"
      },
      "source": [
        "output = widgets.Output()\n",
        "outout_plot = widgets.Output()\n",
        "ALL = 'ALL'\n",
        "\n",
        "#creo desplegable\n",
        "\n",
        "dropdown_Fecha = widgets.Dropdown(options = fechasList, description = 'Fecha')\n",
        "\n",
        "\n",
        "#funcion filtrar df & plot\n",
        "\n",
        "def filtroPie(fecha,j):\n",
        "    output.clear_output()\n",
        "    outout_plot.clear_output()\n",
        "    \n",
        "\n",
        "    if fecha == ALL:\n",
        "      print('')\n",
        "\n",
        "    else:\n",
        "        dataNacional = filtrar_sectores(nacional,fecha)\n",
        "        dataUrbano = filtrar_sectores(urbano,fecha)\n",
        "        dataRural = filtrar_sectores(rural,fecha)\n",
        "        \n",
        "    with output:\n",
        "        display(filtroPie)\n",
        "        \n",
        "    with outout_plot:\n",
        "        print('GRAFICAS PIE POR SECTORIZACION')\n",
        "        plt.figure()\n",
        "        colores = ['#A2C736', '#367BC7', '#7036C7','#E9EC21']\n",
        "        plt.pie(dataNacional['Porcentajes'], labels=dataNacional['Sector'], colors=colores, autopct='%.2f %%')\n",
        "        plt.title('Nacional'+' '+'Fecha'+' '+fecha)\n",
        "        \n",
        "        print(' ')\n",
        "        plt.figure()\n",
        "        colores = ['#A2C736', '#367BC7', '#7036C7','#E9EC21']\n",
        "        plt.pie(dataUrbano['Porcentajes'], labels=dataUrbano['Sector'], colors=colores, autopct='%.2f %%')\n",
        "        plt.title('Urbano'+' '+'Fecha'+' '+fecha)\n",
        "\n",
        "        print(' ')\n",
        "        plt.figure()\n",
        "        colores = ['#A2C736', '#367BC7', '#7036C7','#E9EC21']\n",
        "        plt.pie(dataRural['Porcentajes'], labels=dataRural['Sector'], colors=colores, autopct='%.2f %%')\n",
        "        plt.title('Rural'+' '+'Fecha'+' '+fecha)\n",
        "        plt.show()\n",
        "        \n",
        "def dropdown_Fecha_eventhandler (change):\n",
        "    filtroPie(change.new, dropdown_Fecha.value)\n",
        "    \n",
        "    \n",
        "dropdown_Fecha.observe(dropdown_Fecha_eventhandler, names ='value')\n",
        "\n",
        "\n",
        "# widgets layout\n",
        "tab  = widgets.Tab([outout_plot])\n",
        "\n",
        "tab.set_title(1,'Gráficos')\n",
        "dashboard = widgets.VBox([dropdown_Fecha,tab])\n",
        "display(dashboard);"
      ],
      "execution_count": 19,
      "outputs": [
        {
          "output_type": "display_data",
          "data": {
            "application/vnd.jupyter.widget-view+json": {
              "model_id": "bd90459259d746228a2e33b5d2bf894a",
              "version_minor": 0,
              "version_major": 2
            },
            "text/plain": [
              "VBox(children=(Dropdown(description='Fecha', options=('ene-21', 'feb-21', 'mar-14', 'mar-15', 'mar-16', 'mar-1…"
            ]
          },
          "metadata": {}
        }
      ]
    },
    {
      "cell_type": "markdown",
      "metadata": {
        "id": "MpJQwg96dnbn"
      },
      "source": [
        "# Subempleo, empleo pleno y empleo no pleno "
      ]
    },
    {
      "cell_type": "markdown",
      "metadata": {
        "id": "oebElTJPd81m"
      },
      "source": [
        "## Preprocesamiento"
      ]
    },
    {
      "cell_type": "code",
      "metadata": {
        "id": "ot0oLZmtdso_"
      },
      "source": [
        "#Se crean subggrupos para subempleo, empleo pleno, empleo no pleno\n",
        "subempleoData = dataHist[dataHist[ 'Unnamed: 2' ] ==  \"Subempleo\"]\n",
        "empleoPData = dataHist[dataHist[ 'Unnamed: 2' ] ==  \"Empleo Adecuado/Pleno\"]\n",
        "emeploNpData= dataHist[dataHist[ 'Unnamed: 2' ] ==  \"Otro Empleo no pleno\"]"
      ],
      "execution_count": 20,
      "outputs": []
    },
    {
      "cell_type": "code",
      "metadata": {
        "id": "TmGt4ksleGWl"
      },
      "source": [
        "\n",
        "#Se crean nuevos datasets de cada uno de los subgrupos asignandoles nombres en las columnas\n",
        "subempleosNum = pd.DataFrame()\n",
        "subempleosNum['Fecha'] = subempleoData['Unnamed: 1']\n",
        "subempleosNum['Indicadores'] = subempleoData['Unnamed: 2']\n",
        "subempleosNum['Total'] = subempleoData['Unnamed: 3']\n",
        "\n",
        "empleoPlenoNum = pd.DataFrame()\n",
        "empleoPlenoNum['Fecha'] = empleoPData['Unnamed: 1']\n",
        "empleoPlenoNum['Indicadores'] = empleoPData['Unnamed: 2']\n",
        "empleoPlenoNum['Total'] = empleoPData['Unnamed: 3']\n",
        "\n",
        "empleoNplenoNum = pd.DataFrame()\n",
        "empleoNplenoNum['Fecha'] = emeploNpData['Unnamed: 1']\n",
        "empleoNplenoNum['Indicadores'] = emeploNpData['Unnamed: 2']\n",
        "empleoNplenoNum['Total'] = emeploNpData['Unnamed: 3']"
      ],
      "execution_count": 21,
      "outputs": []
    },
    {
      "cell_type": "code",
      "metadata": {
        "id": "YrY_ztyUeKRt"
      },
      "source": [
        "#Retorna un dataset con ordenado por el mes\n",
        "def return_data_odernado(data):\n",
        "  totales=[]\n",
        "  fechas=[]\n",
        "  ind=[]\n",
        "\n",
        "  df = pd.DataFrame()\n",
        "  df['Fecha'] = None\n",
        "  df['Indicadores'] = None\n",
        "  df['Total'] = None\n",
        "\n",
        "  for j in fechasList:\n",
        "    for i in data.index:\n",
        "      if str(data['Fecha'][i]) == j:\n",
        "\n",
        "          if str(data['Indicadores'][i]) == 'Subempleo':\n",
        "            totales.append(float(eliminarPuntos(data['Total'][i])))\n",
        "            fechas.append(data['Fecha'][i])\n",
        "            ind.append(data['Indicadores'][i])\n",
        "\n",
        "          if str(data['Indicadores'][i]) == 'Otro Empleo no pleno':\n",
        "            totales.append(float(eliminarPuntos(data['Total'][i])))\n",
        "            fechas.append(data['Fecha'][i])\n",
        "            ind.append(data['Indicadores'][i])\n",
        "\n",
        "          if str(data['Indicadores'][i]) == 'Empleo Adecuado/Pleno':\n",
        "            totales.append(float(eliminarPuntos(data['Total'][i])))\n",
        "            fechas.append(data['Fecha'][i])\n",
        "            ind.append(data['Indicadores'][i])\n",
        "\n",
        "  df['Fecha']=fechas\n",
        "  df['Indicadores']=ind\n",
        "  df['Total']=totales\n",
        "  return df"
      ],
      "execution_count": 22,
      "outputs": []
    },
    {
      "cell_type": "code",
      "metadata": {
        "id": "La8RLYQVeOan"
      },
      "source": [
        "#se eliminan las fechas repetidas \n",
        "def filtrar_anio(data):\n",
        "    #Se liminan las fechas repetidas\n",
        "  ordenadaLista=[]\n",
        "  anioLista=[]\n",
        "  fechascomparacion=data['Fecha']\n",
        "  for i in fechascomparacion:\n",
        "    anioLista.append('20'+i[4:6])\n",
        "\n",
        "\n",
        "  for element in anioLista:\n",
        "      if element not in ordenadaLista:\n",
        "          ordenadaLista.append(element)\n",
        "\n",
        "  ordenados = sorted(ordenadaLista)\n",
        "\n",
        "  return ordenados"
      ],
      "execution_count": 23,
      "outputs": []
    },
    {
      "cell_type": "code",
      "metadata": {
        "id": "DP-6_ALUeRqf"
      },
      "source": [
        "#nuevos datasets sin fechas repetidas\n",
        "s=return_data_odernado(subempleosNum)\n",
        "ep=return_data_odernado(empleoPlenoNum)\n",
        "emnp=return_data_odernado(empleoNplenoNum)"
      ],
      "execution_count": 24,
      "outputs": []
    },
    {
      "cell_type": "code",
      "metadata": {
        "id": "sSN6N26zeWU6"
      },
      "source": [
        "#se suman los valores totales de subempleo, empleo pleno y empleo no pleno segun el año \n",
        "def sumar_valores_anio(data):\n",
        "  df = pd.DataFrame()\n",
        "  df['Anio'] = None\n",
        "  df['Indicadores'] = None\n",
        "  df['Total'] = None\n",
        "  total=0\n",
        "  anios=[]\n",
        "  totales=[]\n",
        "  ind=[]\n",
        "  f=filtrar_anio(data)\n",
        "  label=''\n",
        "  \n",
        "  for j in f:\n",
        "    \n",
        "    total=0\n",
        "    for i in data.index:\n",
        "      if str('20'+data['Fecha'][i][4:6]) == j:\n",
        "         total = total+data['Total'][i]\n",
        "         label=data['Indicadores'][i]\n",
        " \n",
        "    anios.append(j)\n",
        "    totales.append(total)\n",
        "    ind.append(label)\n",
        "  \n",
        "  df['Total']=totales\n",
        "  df['Anio']=anios \n",
        "  df['Indicadores']=ind \n",
        "\n",
        "  return df"
      ],
      "execution_count": 25,
      "outputs": []
    },
    {
      "cell_type": "code",
      "metadata": {
        "id": "I1TFN800eagv"
      },
      "source": [
        "# datasets con los totales por año\n",
        "dataS=sumar_valores_anio(s)\n",
        "dataEP=sumar_valores_anio(ep)\n",
        "dataENP=sumar_valores_anio(emnp)"
      ],
      "execution_count": 26,
      "outputs": []
    },
    {
      "cell_type": "code",
      "metadata": {
        "id": "ZbKL-qgheeOP"
      },
      "source": [
        "# devuelve los datos de un dataset segun el rango de años ingresado\n",
        "def devolver_posiciones_anio(anioIncio, anioFin, data):\n",
        "  inicio=0\n",
        "  fin=0\n",
        "  aux=0\n",
        "  for i in data.index:\n",
        "    if data['Anio'][i]==anioIncio:\n",
        "      inicio=i\n",
        "      aux=i\n",
        "\n",
        "    if data['Anio'][i]==anioFin:\n",
        "      fin=i+1\n",
        "\n",
        "  if fin < inicio:\n",
        "    inicio=fin-1\n",
        "    fin=aux+1\n",
        "    \n",
        "  return inicio, fin"
      ],
      "execution_count": 27,
      "outputs": []
    },
    {
      "cell_type": "code",
      "metadata": {
        "id": "qwKyjgnNeiLg"
      },
      "source": [
        "# obtencion de los datos segun el rando de años\n",
        "def obtener_rango_anios(anioIncio, anioFin, data):\n",
        "  inicio, fin =devolver_posiciones_anio(anioIncio, anioFin, data)\n",
        "\n",
        "  # retorna el dataset con las filas que se encuentren dentro del rango establecido por las pocisiones\n",
        "  return data.iloc[inicio:fin]"
      ],
      "execution_count": 28,
      "outputs": []
    },
    {
      "cell_type": "markdown",
      "metadata": {
        "id": "SgEd_VEder5_"
      },
      "source": [
        "## Reporte gráficas"
      ]
    },
    {
      "cell_type": "code",
      "metadata": {
        "colab": {
          "base_uri": "https://localhost:8080/",
          "height": 497,
          "referenced_widgets": [
            "e0866d73812c4bf3bf2829d27198dfc2",
            "55df11a0f2624223bf513232edbdca30",
            "8ae681fc2cb54297afe2c35bbdd80dfb",
            "8067d8f8900a46c383e1c5a613d3fbb0",
            "afb56434d70b4502909d5df2d7520f36",
            "55fdc84afccc403fbfe883a6b7cc12d9",
            "9ff62a45031643feb50680d3a42b177e",
            "c2ad0fdd18cd446b860822f1c3840ffb",
            "73587436af774c8cade5de5f2c602852",
            "4dc19616714b4f34a6e1a2239e1df1c0",
            "e3ba268492d44978b0fe1df3cc2ba64b",
            "982fd90d0f8d48ef921de83934ae5eeb"
          ]
        },
        "id": "1d69ToxYep27",
        "outputId": "73048bd2-45ca-4cfd-ad67-db286a946104"
      },
      "source": [
        "output = widgets.Output()\n",
        "outout_plot = widgets.Output()\n",
        "ALL = 'ALL'\n",
        "\n",
        "#creo desplegable\n",
        "\n",
        "dropdown_anioInicio = widgets.Dropdown(options = dataS['Anio'], description = 'Año Inicio')\n",
        "dropdown_anioFin = widgets.Dropdown(options = dataS['Anio'], description = 'Año Fin')\n",
        "\n",
        "#funcion filtrar df & plot\n",
        "\n",
        "def filtroHistA (anio_Inicio, anio_Fin):\n",
        "    output.clear_output()\n",
        "    outout_plot.clear_output()\n",
        "    \n",
        "\n",
        "    if (anio_Inicio == ALL) & (anio_Fin == ALL):\n",
        "        filtro = df\n",
        "    else:\n",
        "\n",
        "        datosGS = obtener_rango_anios(anio_Inicio,anio_Fin,dataS)\n",
        "        datosGEP = obtener_rango_anios(anio_Inicio,anio_Fin,dataEP)\n",
        "        datosGENP = obtener_rango_anios(anio_Inicio,anio_Fin,dataENP)\n",
        "\n",
        "        \n",
        "    with output:\n",
        "        display(filtroHistA)\n",
        "        \n",
        "    with outout_plot:\n",
        "      # set width of bar\n",
        "      barWidth = 0.3\n",
        "      fig = plt.subplots(figsize =(18, 8))\n",
        "      \n",
        "      # set height of bar\n",
        "      IT = np.array(datosGS[\"Total\"])\n",
        "      ECE = np.array(datosGEP[\"Total\"])\n",
        "      CSE = np.array(datosGENP[\"Total\"])\n",
        "      \n",
        "      # Set position of bar on X axis\n",
        "      br1 = np.arange(len(IT))\n",
        "      br2 = [x + barWidth for x in br1]\n",
        "      br3 = [x + barWidth for x in br2]\n",
        "\n",
        "      # Make the plot\n",
        "      plt.bar(br1, IT, color ='r', width = barWidth,\n",
        "              edgecolor ='grey', label ='Subempleo')\n",
        "      plt.bar(br2, ECE, color ='g', width = barWidth,\n",
        "              edgecolor ='grey', label ='Empleo Pleno')\n",
        "      plt.bar(br3, CSE, color ='b', width = barWidth,\n",
        "              edgecolor ='grey', label ='Empleo No pleno')\n",
        "      \n",
        "      # Adding Xticks\n",
        "      plt.xlabel('Año', fontweight ='bold', fontsize = 15)\n",
        "      plt.ylabel('Datos en Millones', fontweight ='bold', fontsize = 15)\n",
        "      plt.title('Personas en Subempleo, Empleo pleno y empleo no pleno')\n",
        "      plt.xticks([r + barWidth for r in range(len(IT))],\n",
        "              np.array(datosGS[\"Anio\"]))\n",
        "      \n",
        "      plt.legend()\n",
        "      plt.show()\n",
        "        \n",
        "def dropdown_AnioInicio_eventhandler (change):\n",
        "    filtroHistA( dropdown_anioInicio.value, change.new)\n",
        "    \n",
        "def dropdown_AnioFin_eventhander(change):\n",
        "    filtroHistA(change.new,dropdown_anioFin.value)\n",
        "    \n",
        "dropdown_anioFin.observe(dropdown_AnioInicio_eventhandler, names ='value')\n",
        "dropdown_anioInicio.observe (dropdown_AnioFin_eventhander, names = 'value')\n",
        "\n",
        "# widgets layout\n",
        "tab  = widgets.Tab([outout_plot])\n",
        "tab.set_title(1,'Gráficos')\n",
        "dashboard = widgets.VBox([dropdown_anioInicio,dropdown_anioFin, tab])\n",
        "display(dashboard);"
      ],
      "execution_count": 32,
      "outputs": [
        {
          "output_type": "display_data",
          "data": {
            "application/vnd.jupyter.widget-view+json": {
              "model_id": "e0866d73812c4bf3bf2829d27198dfc2",
              "version_minor": 0,
              "version_major": 2
            },
            "text/plain": [
              "VBox(children=(Dropdown(description='Año Inicio', options=('2007', '2008', '2009', '2010', '2011', '2012', '20…"
            ]
          },
          "metadata": {}
        }
      ]
    },
    {
      "cell_type": "markdown",
      "metadata": {
        "id": "BQifJbePjWKS"
      },
      "source": [
        "# Estadística descriptiva "
      ]
    },
    {
      "cell_type": "markdown",
      "metadata": {
        "id": "jNGrXHE6jfSu"
      },
      "source": [
        "Describir con estadística descriptiva los datos que se encuentran en los archivos"
      ]
    },
    {
      "cell_type": "markdown",
      "metadata": {
        "id": "cr3ZHXrBrqAW"
      },
      "source": [
        "## Poblaciones\n",
        "Dentro del archivo 'poblaciones.csv'.\n",
        "Segun los datos presentados el numero de mujeres es mayor al de los hombres pero estos ocupan mas puestos de trabajo que las mujeres, hasta octubre del 2021 la poblacion total alcanza los 17 897 230 de habitantes en el pais con 9 137 335 mujeres y 8 759 895 con una diferencia del 4.13%.\n",
        "\n",
        "\n",
        "\n",
        "Empleados\n",
        "* Promedio de personas con empleo desde el 2007 = 7 295 030\n",
        "\n",
        "Desempleados\n",
        "* Promedio de personas desempleadas desde el 2007 = 369 816\n",
        "\n"
      ]
    },
    {
      "cell_type": "markdown",
      "metadata": {
        "id": "LxQ-27wb6Jsx"
      },
      "source": [
        "## Sectorizacióm de empleo\n",
        "Se puede observar que desde el año 2007 el sector Formal Urbano ha mantenido el mayor numero de empleados con un promedio del 57.6 %.\n",
        "\n",
        "El sector con menos numero de empleados desde el 2007 es el sector del empleo doméstico rural con un promedio del 1.44 %"
      ]
    },
    {
      "cell_type": "markdown",
      "metadata": {
        "id": "9H8A7ahv8dYS"
      },
      "source": [
        "# Concluciones \n",
        "Los dos datasets se tuvieron que preprocesar para presentar de una manera mas legible los datos en las gráficas ya que existían datos nulos, dichos datos fueron reemplazados con un valor de 0 para que no obstruyan el procesamiento de las demás filas.\n",
        "\n",
        "Las graficas generadas son interactivas a las cuales se les pueden asignar valores según el mes y el año y se presentará la distribución de los datos según el rango especificado.\n",
        "\n",
        "Existe una gran diferencia entre el numero de empleados y desempleados, segun las graficas presentadas desde diciembre del 2007 hasta octubre del 2021, sin embargo el numero de empleados ha variado mucho a lo largo de los años, en diciembre del 2007 el numero de empleados alcanzo los 6 019 332 siendo el año con el menor numero de empleados hasta la fecha, hasta octubre del año 2021 se alcanzo el mayor numero de empleados con 8 066 696.\n",
        "\n",
        "En cuanto a la sectorización del empleo el sector formal urbano posee el mayor numero de empleados desde el año 2007 hasta la actualidad.\n",
        "\n",
        "Los histogramas presentan una mayor distribucion de personas con un empleo pleno desde al año 2007 hasta la actualidad.\n",
        "\n"
      ]
    },
    {
      "cell_type": "code",
      "metadata": {
        "id": "2YCkvVWZjjPl"
      },
      "source": [
        ""
      ],
      "execution_count": null,
      "outputs": []
    }
  ]
}